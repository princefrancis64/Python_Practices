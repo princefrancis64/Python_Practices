{
 "cells": [
  {
   "cell_type": "code",
   "execution_count": 1,
   "id": "91aaabb7",
   "metadata": {},
   "outputs": [
    {
     "ename": "SyntaxError",
     "evalue": "incomplete input (1928485704.py, line 4)",
     "output_type": "error",
     "traceback": [
      "\u001b[1;36m  Cell \u001b[1;32mIn[1], line 4\u001b[1;36m\u001b[0m\n\u001b[1;33m    print(c\u001b[0m\n\u001b[1;37m           ^\u001b[0m\n\u001b[1;31mSyntaxError\u001b[0m\u001b[1;31m:\u001b[0m incomplete input\n"
     ]
    }
   ],
   "source": [
    "a = 10\n",
    "b = 20\n",
    "c =a + b\n",
    "print(c"
   ]
  },
  {
   "cell_type": "code",
   "execution_count": 2,
   "id": "406bdc1f",
   "metadata": {},
   "outputs": [
    {
     "ename": "TypeError",
     "evalue": "unsupported operand type(s) for +: 'int' and 'str'",
     "output_type": "error",
     "traceback": [
      "\u001b[1;31m---------------------------------------------------------------------------\u001b[0m",
      "\u001b[1;31mTypeError\u001b[0m                                 Traceback (most recent call last)",
      "Cell \u001b[1;32mIn[2], line 3\u001b[0m\n\u001b[0;32m      1\u001b[0m a \u001b[38;5;241m=\u001b[39m \u001b[38;5;241m10\u001b[39m \n\u001b[0;32m      2\u001b[0m b \u001b[38;5;241m=\u001b[39m \u001b[38;5;124m\"\u001b[39m\u001b[38;5;124ms\u001b[39m\u001b[38;5;124m\"\u001b[39m\n\u001b[1;32m----> 3\u001b[0m c \u001b[38;5;241m=\u001b[39m \u001b[43ma\u001b[49m\u001b[38;5;241;43m+\u001b[39;49m\u001b[43mb\u001b[49m\n\u001b[0;32m      4\u001b[0m \u001b[38;5;28mprint\u001b[39m(c)\n",
      "\u001b[1;31mTypeError\u001b[0m: unsupported operand type(s) for +: 'int' and 'str'"
     ]
    }
   ],
   "source": [
    "a = 10 \n",
    "b = \"s\"\n",
    "c = a+b\n",
    "print(c)"
   ]
  },
  {
   "cell_type": "code",
   "execution_count": 3,
   "id": "fe60bb24",
   "metadata": {},
   "outputs": [
    {
     "ename": "TypeError",
     "evalue": "unsupported operand type(s) for +: 'int' and 'str'",
     "output_type": "error",
     "traceback": [
      "\u001b[1;31m---------------------------------------------------------------------------\u001b[0m",
      "\u001b[1;31mTypeError\u001b[0m                                 Traceback (most recent call last)",
      "Cell \u001b[1;32mIn[3], line 3\u001b[0m\n\u001b[0;32m      1\u001b[0m a \u001b[38;5;241m=\u001b[39m \u001b[38;5;241m10\u001b[39m\n\u001b[0;32m      2\u001b[0m b \u001b[38;5;241m=\u001b[39m \u001b[38;5;124m\"\u001b[39m\u001b[38;5;124ms\u001b[39m\u001b[38;5;124m\"\u001b[39m\n\u001b[1;32m----> 3\u001b[0m c \u001b[38;5;241m=\u001b[39m \u001b[43ma\u001b[49m\u001b[38;5;241;43m+\u001b[39;49m\u001b[43mb\u001b[49m\n\u001b[0;32m      4\u001b[0m \u001b[38;5;28mprint\u001b[39m(c)\n",
      "\u001b[1;31mTypeError\u001b[0m: unsupported operand type(s) for +: 'int' and 'str'"
     ]
    }
   ],
   "source": [
    "a = 10\n",
    "b = \"s\"\n",
    "c = a+b\n",
    "print(c)"
   ]
  },
  {
   "cell_type": "code",
   "execution_count": 4,
   "id": "af090017",
   "metadata": {},
   "outputs": [
    {
     "name": "stdout",
     "output_type": "stream",
     "text": [
      "enter first number10\n",
      "enter second number20\n",
      "0.5\n"
     ]
    }
   ],
   "source": [
    "a = int(input(\"enter first number\"))\n",
    "b = int(input(\"enter second number\"))\n",
    "c = a/b\n",
    "print(c)"
   ]
  },
  {
   "cell_type": "code",
   "execution_count": 5,
   "id": "fa646975",
   "metadata": {},
   "outputs": [
    {
     "name": "stdout",
     "output_type": "stream",
     "text": [
      "enter first number10\n",
      "enter second number0\n"
     ]
    },
    {
     "ename": "ZeroDivisionError",
     "evalue": "division by zero",
     "output_type": "error",
     "traceback": [
      "\u001b[1;31m---------------------------------------------------------------------------\u001b[0m",
      "\u001b[1;31mZeroDivisionError\u001b[0m                         Traceback (most recent call last)",
      "Cell \u001b[1;32mIn[5], line 3\u001b[0m\n\u001b[0;32m      1\u001b[0m a \u001b[38;5;241m=\u001b[39m \u001b[38;5;28mint\u001b[39m(\u001b[38;5;28minput\u001b[39m(\u001b[38;5;124m\"\u001b[39m\u001b[38;5;124menter first number\u001b[39m\u001b[38;5;124m\"\u001b[39m))\n\u001b[0;32m      2\u001b[0m b \u001b[38;5;241m=\u001b[39m \u001b[38;5;28mint\u001b[39m(\u001b[38;5;28minput\u001b[39m(\u001b[38;5;124m\"\u001b[39m\u001b[38;5;124menter second number\u001b[39m\u001b[38;5;124m\"\u001b[39m))\n\u001b[1;32m----> 3\u001b[0m c \u001b[38;5;241m=\u001b[39m \u001b[43ma\u001b[49m\u001b[38;5;241;43m/\u001b[39;49m\u001b[43mb\u001b[49m\n\u001b[0;32m      4\u001b[0m \u001b[38;5;28mprint\u001b[39m(c)\n",
      "\u001b[1;31mZeroDivisionError\u001b[0m: division by zero"
     ]
    }
   ],
   "source": [
    "a = int(input(\"enter first number\"))\n",
    "b = int(input(\"enter second number\"))\n",
    "c = a/b\n",
    "print(c)"
   ]
  },
  {
   "cell_type": "code",
   "execution_count": 10,
   "id": "7bbe8908",
   "metadata": {},
   "outputs": [
    {
     "name": "stdout",
     "output_type": "stream",
     "text": [
      "enter first number10\n",
      "enter second number0\n",
      "0.5\n",
      "0\n"
     ]
    }
   ],
   "source": [
    "a = int(input(\"enter first number\"))\n",
    "b = int(input(\"enter second number\"))\n",
    "#c = a/b\n",
    "print(c)\n",
    "d=a*b\n",
    "print(d)"
   ]
  },
  {
   "cell_type": "code",
   "execution_count": null,
   "id": "b9577f7d",
   "metadata": {},
   "outputs": [],
   "source": [
    "try\n",
    "except\n",
    "else\n",
    "finally\n",
    "raise"
   ]
  },
  {
   "cell_type": "code",
   "execution_count": 12,
   "id": "7c0d4eb4",
   "metadata": {},
   "outputs": [
    {
     "name": "stdout",
     "output_type": "stream",
     "text": [
      "enter first number10\n",
      "enter second number4\n",
      "2.5\n"
     ]
    }
   ],
   "source": [
    "a = int(input(\"enter first number\"))\n",
    "b = int(input(\"enter second number\"))\n",
    "try:\n",
    "    c = a/b\n",
    "    print(c)\n",
    "except:\n",
    "    print(\"b should not be zero\")"
   ]
  },
  {
   "cell_type": "code",
   "execution_count": 16,
   "id": "65d038f6",
   "metadata": {},
   "outputs": [
    {
     "name": "stdout",
     "output_type": "stream",
     "text": [
      "enter first number10\n",
      "enter second number0\n",
      "b should not be zero\n"
     ]
    }
   ],
   "source": [
    "a = int(input(\"enter first number\"))\n",
    "b = int(input(\"enter second number\"))\n",
    "try:\n",
    "    c = a/b\n",
    "    print(c)\n",
    "except BaseException as e:\n",
    "    print(\"b should not be zero\")"
   ]
  },
  {
   "cell_type": "code",
   "execution_count": 21,
   "id": "f07af504",
   "metadata": {},
   "outputs": [
    {
     "name": "stdout",
     "output_type": "stream",
     "text": [
      "enter first number10\n",
      "enter second number0\n",
      "b should not be zero division by zero\n"
     ]
    }
   ],
   "source": [
    "a = int(input(\"enter first number\"))\n",
    "b = int(input(\"enter second number\"))\n",
    "try:\n",
    "    c = a/b\n",
    "    print(c)\n",
    "except ZeroDivisionError as e:\n",
    "    print(\"b should not be zero\",e)"
   ]
  },
  {
   "cell_type": "code",
   "execution_count": 24,
   "id": "83117b3a",
   "metadata": {},
   "outputs": [
    {
     "ename": "SyntaxError",
     "evalue": "unmatched ')' (3655856456.py, line 5)",
     "output_type": "error",
     "traceback": [
      "\u001b[1;36m  Cell \u001b[1;32mIn[24], line 5\u001b[1;36m\u001b[0m\n\u001b[1;33m    print(c))\u001b[0m\n\u001b[1;37m            ^\u001b[0m\n\u001b[1;31mSyntaxError\u001b[0m\u001b[1;31m:\u001b[0m unmatched ')'\n"
     ]
    }
   ],
   "source": [
    "a = int(input(\"enter first number\"))\n",
    "b = int(input(\"enter second number\"))\n",
    "try:\n",
    "    c = a/b\n",
    "    print(c))\n",
    "except SyntaxError:\n",
    "    print(\"wrong syntax\")\n",
    "d = a+b"
   ]
  },
  {
   "cell_type": "code",
   "execution_count": 30,
   "id": "273286b6",
   "metadata": {},
   "outputs": [
    {
     "name": "stdout",
     "output_type": "stream",
     "text": [
      "enter first number-10\n",
      "enter second number-0\n",
      "b should not be zero\n",
      "10\n"
     ]
    }
   ],
   "source": [
    "a = int(input(\"enter first number-\"))\n",
    "b = int(input(\"enter second number-\"))\n",
    "try:\n",
    "    c = a/b\n",
    "    print(c)\n",
    "except:\n",
    "    print(\"b should not be zero\")\n",
    "d = a+b\n",
    "print(d)"
   ]
  },
  {
   "cell_type": "code",
   "execution_count": 9,
   "id": "cfd955c5",
   "metadata": {},
   "outputs": [
    {
     "name": "stdout",
     "output_type": "stream",
     "text": [
      "enter the first number-10\n",
      "enter the second number-0\n",
      "enter a non zero denominator\n",
      "enter the first number-10\n",
      "enter the second number-6\n",
      "1.6666666666666667\n"
     ]
    }
   ],
   "source": [
    "while True:\n",
    "    try:\n",
    "        a = int(input(\"enter the first number-\"))\n",
    "        b = int(input(\"enter the second number-\"))\n",
    "        c = a/b\n",
    "        print(c)\n",
    "        break\n",
    "    except ZeroDivisionError:\n",
    "        print(\"enter a non zero denominator\")\n",
    "    \n",
    "    except ValueError:\n",
    "        print(\"enter an integer value\")"
   ]
  },
  {
   "cell_type": "code",
   "execution_count": 3,
   "id": "dafb6385",
   "metadata": {},
   "outputs": [
    {
     "name": "stdout",
     "output_type": "stream",
     "text": [
      "enter the namefrancis\n",
      "enter the namepriya\n",
      "enter the nameannies\n",
      "enter the nameprince\n",
      "prince is my Name\n"
     ]
    }
   ],
   "source": [
    "while True:\n",
    "    n = input(\"enter the name-\")\n",
    "    if n == \"prince\" or n ==\"Prince\":\n",
    "        print(n,\"is my Name\")\n",
    "        break"
   ]
  },
  {
   "cell_type": "code",
   "execution_count": 12,
   "id": "c02dd8a2",
   "metadata": {},
   "outputs": [
    {
     "name": "stdout",
     "output_type": "stream",
     "text": [
      "enter the first number-10\n",
      "enter the second number-0\n",
      "b should not be zero\n",
      "enter the first number-10\n",
      "enter the second number-20\n",
      "div: 0.5\n"
     ]
    }
   ],
   "source": [
    "while True:\n",
    "    try:\n",
    "        a = int(input(\"enter the first number-\"))\n",
    "        b = int(input(\"enter the second number-\"))\n",
    "        c = a/b\n",
    "        print(\"div:\",c)\n",
    "        break\n",
    "    except:\n",
    "        print(\"b should not be zero\")"
   ]
  },
  {
   "cell_type": "code",
   "execution_count": 15,
   "id": "2e22a9ec",
   "metadata": {},
   "outputs": [
    {
     "name": "stdout",
     "output_type": "stream",
     "text": [
      "enter the first number-10\n",
      "enter the second number-0\n",
      "division by zero\n",
      "enter the first number-6\n",
      "enter the second number-9\n",
      "div: 0.6666666666666666\n"
     ]
    }
   ],
   "source": [
    "while True:\n",
    "    try:\n",
    "        a = int(input(\"enter the first number-\"))\n",
    "        b = int(input(\"enter the second number-\"))\n",
    "        c = a/b\n",
    "        print(\"div:\",c)\n",
    "        break\n",
    "    except BaseException as e:\n",
    "        print(e)"
   ]
  },
  {
   "cell_type": "code",
   "execution_count": 17,
   "id": "6eb67bac",
   "metadata": {},
   "outputs": [
    {
     "name": "stdout",
     "output_type": "stream",
     "text": [
      "enter the first number-10\n",
      "enter the second number-0\n",
      "(<class 'ZeroDivisionError'>, ZeroDivisionError('division by zero'), <traceback object at 0x0000021B15737180>)\n",
      "enter the first number-10\n",
      "enter the second number-4\n",
      "div: 2.5\n"
     ]
    }
   ],
   "source": [
    "import sys\n",
    "while True:\n",
    "    try:\n",
    "        a = int(input(\"enter the first number-\"))\n",
    "        b = int(input(\"enter the second number-\"))\n",
    "        c = a/b\n",
    "        print(\"div:\",c)\n",
    "        break\n",
    "    except:\n",
    "        print(sys.exc_info())"
   ]
  },
  {
   "cell_type": "code",
   "execution_count": 19,
   "id": "c053cbc4",
   "metadata": {},
   "outputs": [
    {
     "name": "stdout",
     "output_type": "stream",
     "text": [
      "enter the first number-10\n",
      "enter the second number-0\n",
      "exception class- <class 'ZeroDivisionError'>\n",
      "exception message- division by zero\n",
      "line number- 6\n",
      "enter the first number-10\n",
      "enter the second number-6\n",
      "div: 1.6666666666666667\n"
     ]
    }
   ],
   "source": [
    "import sys\n",
    "while True:\n",
    "    try:\n",
    "        a = int(input(\"enter the first number-\"))\n",
    "        b = int(input(\"enter the second number-\"))\n",
    "        c = a/b\n",
    "        print(\"div:\",c)\n",
    "        break\n",
    "    except:\n",
    "        a,b,c = sys.exc_info()\n",
    "        print(\"exception class-\",a)\n",
    "        print(\"exception message-\",b)\n",
    "        print(\"line number-\",c.tb_lineno)"
   ]
  },
  {
   "cell_type": "code",
   "execution_count": 20,
   "id": "0beea3f3",
   "metadata": {},
   "outputs": [
    {
     "name": "stdout",
     "output_type": "stream",
     "text": [
      "enter the first number-10\n",
      "enter the second number-0\n",
      "Traceback (most recent call last):\n",
      "  File \"C:\\Users\\Prince\\AppData\\Local\\Temp\\ipykernel_12168\\2571449081.py\", line 7, in <module>\n",
      "    c = a/b\n",
      "ZeroDivisionError: division by zero\n",
      "\n",
      "enter the first number-10\n",
      "enter the second number-5\n",
      "div: 2.0\n"
     ]
    }
   ],
   "source": [
    "#import sys.exc_info()\n",
    "import traceback\n",
    "while True:\n",
    "    try:\n",
    "        a = int(input(\"enter the first number-\"))\n",
    "        b = int(input(\"enter the second number-\"))\n",
    "        c = a/b\n",
    "        print(\"div:\",c)\n",
    "        break\n",
    "    except:\n",
    "        print(traceback.format_exc())"
   ]
  },
  {
   "cell_type": "code",
   "execution_count": null,
   "id": "255c72c1",
   "metadata": {},
   "outputs": [],
   "source": [
    "#raise exception "
   ]
  },
  {
   "cell_type": "code",
   "execution_count": 24,
   "id": "35d65063",
   "metadata": {},
   "outputs": [
    {
     "name": "stdout",
     "output_type": "stream",
     "text": [
      "first number-10\n",
      "second number-0\n",
      "please enter non zero denominator\n",
      "first number--2\n",
      "second number-5\n",
      "negative number not allowed\n",
      "first number-5\n",
      "second number--1\n",
      "negative number not allowed\n",
      "first number-10\n",
      "second number-8\n",
      "division: 1.25\n"
     ]
    }
   ],
   "source": [
    "while True:\n",
    "    try:\n",
    "        a = int(input(\"first number-\"))\n",
    "        b = int(input(\"second number-\"))\n",
    "        if a<0 or b<0:\n",
    "            raise Exception(\"negative number not allowed\")\n",
    "        c=a/b\n",
    "        print(\"division:\",c)\n",
    "        break\n",
    "    except ValueError:\n",
    "        print(\"please enter int only\")\n",
    "    except ZeroDivisionError:\n",
    "        print(\"please enter non zero denominator\")\n",
    "    except Exception as e:\n",
    "        print(e)"
   ]
  },
  {
   "cell_type": "code",
   "execution_count": 26,
   "id": "4a69f087",
   "metadata": {},
   "outputs": [
    {
     "name": "stdout",
     "output_type": "stream",
     "text": [
      "first number-10\n",
      "second number--1\n",
      "negative number not allowed\n",
      "first number-1\n",
      "second number-10\n",
      "division: 0.1\n"
     ]
    }
   ],
   "source": [
    "while True:\n",
    "    try:\n",
    "        a = int(input(\"first number-\"))\n",
    "        b = int(input(\"second number-\"))\n",
    "        if a<0 or b<0:\n",
    "            raise Exception(\"negative number not allowed\")\n",
    "        c=a/b\n",
    "        print(\"division:\",c)\n",
    "        break\n",
    "    except ValueError:\n",
    "        print(\"please enter int only\")\n",
    "    except ZeroDivisionError:\n",
    "        print(\"please enter non zero denominator\")\n",
    "    except Exception as e:\n",
    "        print(e)"
   ]
  },
  {
   "cell_type": "code",
   "execution_count": 28,
   "id": "54d6c516",
   "metadata": {},
   "outputs": [],
   "source": [
    "class NegativeNumberException(Exception):\n",
    "    pass"
   ]
  },
  {
   "cell_type": "code",
   "execution_count": 29,
   "id": "4a6651ea",
   "metadata": {},
   "outputs": [
    {
     "name": "stdout",
     "output_type": "stream",
     "text": [
      "first number-\n",
      "please enter int only\n",
      "first number--\n",
      "please enter int only\n",
      "first number-\n",
      "please enter int only\n",
      "first number-10\n",
      "second number--5\n",
      "negative number not allowed\n",
      "first number-10\n",
      "second number-5\n",
      "division: 2.0\n"
     ]
    }
   ],
   "source": [
    "#custom exception\n",
    "while True:\n",
    "    try:\n",
    "        a = int(input(\"first number-\"))\n",
    "        b = int(input(\"second number-\"))\n",
    "        if a<0 or b<0:\n",
    "            raise NegativeNumberException(\"negative number not allowed\")\n",
    "        c=a/b\n",
    "        print(\"division:\",c)\n",
    "        break\n",
    "    except ValueError:\n",
    "        print(\"please enter int only\")\n",
    "    except ZeroDivisionError:\n",
    "        print(\"please enter non zero denominator\")\n",
    "    except NegativeNumberException as e:\n",
    "        print(e)"
   ]
  },
  {
   "cell_type": "code",
   "execution_count": 30,
   "id": "4d013c59",
   "metadata": {},
   "outputs": [],
   "source": [
    "##final block"
   ]
  },
  {
   "cell_type": "code",
   "execution_count": 33,
   "id": "2c166f07",
   "metadata": {},
   "outputs": [
    {
     "name": "stdout",
     "output_type": "stream",
     "text": [
      "first number-10\n",
      "second number-0\n",
      "do not use zero in denominator\n",
      "hello\n",
      "python\n"
     ]
    }
   ],
   "source": [
    "try:\n",
    "    a = int(input(\"first number-\"))\n",
    "    b = int(input(\"second number-\"))\n",
    "    c = a/b\n",
    "    print(c)\n",
    "except:\n",
    "    print('do not use zero in denominator')\n",
    "\n",
    "finally:\n",
    "    print(\"hello\")\n",
    "    print(\"python\")"
   ]
  },
  {
   "cell_type": "code",
   "execution_count": 36,
   "id": "b3e57aa0",
   "metadata": {},
   "outputs": [
    {
     "name": "stdout",
     "output_type": "stream",
     "text": [
      "first number-10\n",
      "second number-6\n",
      "1.6666666666666667\n",
      "python rocks!!\n"
     ]
    }
   ],
   "source": [
    "try:\n",
    "    a = int(input(\"first number-\"))\n",
    "    b = int(input(\"second number-\"))\n",
    "    c = a/b\n",
    "    print(c)\n",
    "except:\n",
    "    print('do not use zero in denominator')\n",
    "else:\n",
    "    print(\"python rocks!!\")"
   ]
  },
  {
   "cell_type": "code",
   "execution_count": null,
   "id": "33af8436",
   "metadata": {},
   "outputs": [],
   "source": []
  }
 ],
 "metadata": {
  "kernelspec": {
   "display_name": "Python 3 (ipykernel)",
   "language": "python",
   "name": "python3"
  },
  "language_info": {
   "codemirror_mode": {
    "name": "ipython",
    "version": 3
   },
   "file_extension": ".py",
   "mimetype": "text/x-python",
   "name": "python",
   "nbconvert_exporter": "python",
   "pygments_lexer": "ipython3",
   "version": "3.10.9"
  }
 },
 "nbformat": 4,
 "nbformat_minor": 5
}
