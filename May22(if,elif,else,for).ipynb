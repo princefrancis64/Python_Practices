{
 "cells": [
  {
   "cell_type": "code",
   "execution_count": 1,
   "id": "c3e4a1ca",
   "metadata": {},
   "outputs": [],
   "source": [
    "a = 10\n",
    "if a == 11:\n",
    "    print(\"this is my first condition\")"
   ]
  },
  {
   "cell_type": "code",
   "execution_count": 2,
   "id": "68f547d2",
   "metadata": {},
   "outputs": [],
   "source": [
    "a = 10\n",
    "if a >5:\n",
    "    pass"
   ]
  },
  {
   "cell_type": "code",
   "execution_count": 3,
   "id": "aaab7f56",
   "metadata": {},
   "outputs": [
    {
     "name": "stdout",
     "output_type": "stream",
     "text": [
      "print this if condition is true\n"
     ]
    }
   ],
   "source": [
    "a = 10\n",
    "if a>8:\n",
    "    print(\"print this if condition is true\")"
   ]
  },
  {
   "cell_type": "code",
   "execution_count": 4,
   "id": "828370bb",
   "metadata": {},
   "outputs": [],
   "source": [
    "a = 10\n",
    "if a<8:\n",
    "    print(\"print this if condition is true\")"
   ]
  },
  {
   "cell_type": "code",
   "execution_count": 5,
   "id": "4d47dff5",
   "metadata": {},
   "outputs": [
    {
     "name": "stdout",
     "output_type": "stream",
     "text": [
      "print this\n"
     ]
    }
   ],
   "source": [
    "a = 10\n",
    "if a ==11:\n",
    "    print(\"my condition is false\")\n",
    "else:\n",
    "    print(\"print this\")"
   ]
  },
  {
   "cell_type": "code",
   "execution_count": 7,
   "id": "74d0fbc5",
   "metadata": {},
   "outputs": [
    {
     "name": "stdout",
     "output_type": "stream",
     "text": [
      "if all the blocks will fail then do this\n"
     ]
    }
   ],
   "source": [
    "a = 10\n",
    "if a==12:\n",
    "    print(\"here we are trying to compare 10 with 12\")\n",
    "elif a==11:\n",
    "    print(\"we are trying to compare 10 with 11\")\n",
    "else:\n",
    "    print(\"if all the blocks will fail then do this\")"
   ]
  },
  {
   "cell_type": "code",
   "execution_count": 8,
   "id": "6ab00f8c",
   "metadata": {},
   "outputs": [
    {
     "name": "stdout",
     "output_type": "stream",
     "text": [
      "for sure i will be able to buy\n"
     ]
    }
   ],
   "source": [
    "price = 500\n",
    "if price>500:\n",
    "    print(\"may be i won't be able to buy a jacket\")\n",
    "elif price<500:\n",
    "    print(\"maybe i will be able to buy the jacket\")\n",
    "elif price  == 500:\n",
    "    print(\"for sure i will be able to buy\")\n",
    "else :\n",
    "    print(\"i don't know\")"
   ]
  },
  {
   "cell_type": "code",
   "execution_count": 9,
   "id": "456daf86",
   "metadata": {},
   "outputs": [
    {
     "data": {
      "text/plain": [
       "False"
      ]
     },
     "execution_count": 9,
     "metadata": {},
     "output_type": "execute_result"
    }
   ],
   "source": [
    "price>500"
   ]
  },
  {
   "cell_type": "code",
   "execution_count": 10,
   "id": "c5d2c20c",
   "metadata": {},
   "outputs": [
    {
     "data": {
      "text/plain": [
       "False"
      ]
     },
     "execution_count": 10,
     "metadata": {},
     "output_type": "execute_result"
    }
   ],
   "source": [
    "price<500"
   ]
  },
  {
   "cell_type": "code",
   "execution_count": 11,
   "id": "4292715a",
   "metadata": {},
   "outputs": [
    {
     "data": {
      "text/plain": [
       "True"
      ]
     },
     "execution_count": 11,
     "metadata": {},
     "output_type": "execute_result"
    }
   ],
   "source": [
    "price==500"
   ]
  },
  {
   "cell_type": "code",
   "execution_count": 12,
   "id": "7dc04c37",
   "metadata": {},
   "outputs": [],
   "source": [
    "l=[1,2,3,4,5,6]"
   ]
  },
  {
   "cell_type": "code",
   "execution_count": 13,
   "id": "ebeffc47",
   "metadata": {},
   "outputs": [
    {
     "data": {
      "text/plain": [
       "True"
      ]
     },
     "execution_count": 13,
     "metadata": {},
     "output_type": "execute_result"
    }
   ],
   "source": [
    "2 in l"
   ]
  },
  {
   "cell_type": "code",
   "execution_count": 14,
   "id": "c190b097",
   "metadata": {},
   "outputs": [
    {
     "name": "stdout",
     "output_type": "stream",
     "text": [
      "do not perform a task\n"
     ]
    }
   ],
   "source": [
    "if 2 in l:\n",
    "    print(\"do not perform a task\")\n",
    "else:\n",
    "    print(\"do not perform this task\")"
   ]
  },
  {
   "cell_type": "code",
   "execution_count": 15,
   "id": "41000eef",
   "metadata": {},
   "outputs": [
    {
     "data": {
      "text/plain": [
       "False"
      ]
     },
     "execution_count": 15,
     "metadata": {},
     "output_type": "execute_result"
    }
   ],
   "source": [
    "60 in l"
   ]
  },
  {
   "cell_type": "code",
   "execution_count": 16,
   "id": "7e4ff797",
   "metadata": {},
   "outputs": [
    {
     "data": {
      "text/plain": [
       "[1, 2, 3, 4, 5, 6]"
      ]
     },
     "execution_count": 16,
     "metadata": {},
     "output_type": "execute_result"
    }
   ],
   "source": [
    "l"
   ]
  },
  {
   "cell_type": "code",
   "execution_count": 17,
   "id": "c4290f5f",
   "metadata": {},
   "outputs": [
    {
     "name": "stdout",
     "output_type": "stream",
     "text": [
      "try to do addition\n"
     ]
    }
   ],
   "source": [
    "if 1 in l:\n",
    "    print(\"try to do addition\")\n",
    "elif 2 in l:\n",
    "    print(\"try to do subtraction\")\n",
    "elif 3 in l:\n",
    "    print(\"try to do multiplication\")"
   ]
  },
  {
   "cell_type": "code",
   "execution_count": 19,
   "id": "0979979b",
   "metadata": {},
   "outputs": [
    {
     "name": "stdout",
     "output_type": "stream",
     "text": [
      "try to do subtraction\n",
      "this is a new statement\n"
     ]
    }
   ],
   "source": [
    "if 10 in l:\n",
    "    print(\"try to do addition\")\n",
    "elif 2 in l:\n",
    "    print(\"try to do subtraction\")\n",
    "elif 3 in l:\n",
    "    print(\"try to do multiplication\")\n",
    "if 4 in l:\n",
    "    print(\"this is a new statement\")"
   ]
  },
  {
   "cell_type": "code",
   "execution_count": 20,
   "id": "1f78e0a0",
   "metadata": {},
   "outputs": [],
   "source": [
    "a = 400"
   ]
  },
  {
   "cell_type": "code",
   "execution_count": 21,
   "id": "56a6f784",
   "metadata": {},
   "outputs": [
    {
     "name": "stdout",
     "output_type": "stream",
     "text": [
      "400\n"
     ]
    }
   ],
   "source": [
    "b = int(input())"
   ]
  },
  {
   "cell_type": "code",
   "execution_count": 22,
   "id": "83c997af",
   "metadata": {},
   "outputs": [
    {
     "data": {
      "text/plain": [
       "int"
      ]
     },
     "execution_count": 22,
     "metadata": {},
     "output_type": "execute_result"
    }
   ],
   "source": [
    "type(b)"
   ]
  },
  {
   "cell_type": "code",
   "execution_count": 27,
   "id": "010b33c1",
   "metadata": {},
   "outputs": [
    {
     "name": "stdout",
     "output_type": "stream",
     "text": [
      "199\n",
      "i will be able to buy something\n",
      "I will be able to buy a jacket\n"
     ]
    }
   ],
   "source": [
    "c = int(input())\n",
    "if c<500:\n",
    "    print(\"i will be able to buy something\")\n",
    "    if c<400:\n",
    "        print(\"I will be able to buy a jacket\")\n",
    "    elif c<300:\n",
    "        print(\"i will be abel to buy a shirt\")\n",
    "        if c<200:\n",
    "            print(\"you are on the right path\")\n",
    "    else:\n",
    "        print(\"i won't be able to buy anything\")\n",
    "else:\n",
    "    print(\"i won't be able to buy anything\")"
   ]
  },
  {
   "cell_type": "code",
   "execution_count": 29,
   "id": "3ad4f5f4",
   "metadata": {},
   "outputs": [
    {
     "name": "stdout",
     "output_type": "stream",
     "text": [
      "499\n",
      "i will be able to buy something\n",
      "i won't be able to buy anything\n"
     ]
    }
   ],
   "source": [
    "c = int(input())\n",
    "if c < 500:\n",
    "    print(\"i will be able to buy something\")\n",
    "    if c<400:\n",
    "        print(\"i will be able to buy a jacket\")\n",
    "    elif c<300:\n",
    "        print(\"i will be able to buy a shirt\")\n",
    "        if c<200:\n",
    "            print(\"you are on the right path\")\n",
    "    else:\n",
    "        print(\"i won't be able to buy anything\")\n",
    "else:\n",
    "    print(\"i won't be able to buy anything with this price tag\")\n",
    "    if c>500:\n",
    "        print(\"let's try something else\")"
   ]
  },
  {
   "cell_type": "code",
   "execution_count": 30,
   "id": "50a8aed0",
   "metadata": {},
   "outputs": [
    {
     "name": "stdout",
     "output_type": "stream",
     "text": [
      "650\n",
      "admission into GRE\n"
     ]
    }
   ],
   "source": [
    "marks = int(input())\n",
    "if marks>600:\n",
    "    print(\"admission into GRE\")\n",
    "else:\n",
    "    print(\"no GRE\")\n",
    "    if marks<500 and marks>=400:\n",
    "        print(\"TOFEL\")\n",
    "    elif marks<400:\n",
    "        print(\"try something else\")"
   ]
  },
  {
   "cell_type": "code",
   "execution_count": 36,
   "id": "934a60f1",
   "metadata": {},
   "outputs": [
    {
     "name": "stdout",
     "output_type": "stream",
     "text": [
      "enter a number=-6546\n",
      "the number is negative\n"
     ]
    }
   ],
   "source": [
    "val =float(input(\"enter a number=\"))\n",
    "if val>=0:\n",
    "    if val==0:\n",
    "        print(\"entered value is zero\")\n",
    "    else:\n",
    "        print(\"entered value is positive\")\n",
    "else:\n",
    "    print(\"the number is negative\")\n",
    "    "
   ]
  },
  {
   "cell_type": "code",
   "execution_count": 37,
   "id": "e787b91d",
   "metadata": {},
   "outputs": [
    {
     "name": "stdout",
     "output_type": "stream",
     "text": [
      "try to do something\n"
     ]
    }
   ],
   "source": [
    "a = 10\n",
    "if a <10 or a ==10:\n",
    "    print(\"try to do something\")"
   ]
  },
  {
   "cell_type": "code",
   "execution_count": 38,
   "id": "a6811c81",
   "metadata": {},
   "outputs": [
    {
     "name": "stdout",
     "output_type": "stream",
     "text": [
      "this is my name\n"
     ]
    }
   ],
   "source": [
    "a = \"prince\"\n",
    "if a ==\"prince\" or a ==\"Prince\":\n",
    "    print(\"this is my name\")"
   ]
  },
  {
   "cell_type": "code",
   "execution_count": 39,
   "id": "571487d2",
   "metadata": {},
   "outputs": [],
   "source": [
    "a= 10\n",
    "b = 11\n",
    "c = 12\n",
    "d =13\n",
    "if a==9 and b==11 and c==12 and d==13:\n",
    "    print(\"let's do something\")"
   ]
  },
  {
   "cell_type": "code",
   "execution_count": 40,
   "id": "7e2dbf3d",
   "metadata": {},
   "outputs": [],
   "source": [
    "d = {\"key1\" : \"value\" , \"key2\" : \"prince\" , \"key3\" : \"iNeuron\"}"
   ]
  },
  {
   "cell_type": "code",
   "execution_count": 41,
   "id": "c7681dfb",
   "metadata": {},
   "outputs": [
    {
     "name": "stdout",
     "output_type": "stream",
     "text": [
      "all the values are verified\n",
      "dict_values(['value', 'prince', 'iNeuron'])\n"
     ]
    }
   ],
   "source": [
    "if d[\"key1\"]==\"value\" and d[\"key2\"]==\"prince\" and d[\"key3\"]==\"iNeuron\":\n",
    "    print(\"all the values are verified\")\n",
    "    print(d.values())"
   ]
  },
  {
   "cell_type": "code",
   "execution_count": 42,
   "id": "ff16d9a8",
   "metadata": {},
   "outputs": [],
   "source": [
    "l = [1,2,3,4,5,\"prince\", 234.65]"
   ]
  },
  {
   "cell_type": "code",
   "execution_count": 43,
   "id": "43a4461a",
   "metadata": {},
   "outputs": [
    {
     "name": "stdout",
     "output_type": "stream",
     "text": [
      "1\n",
      "2\n",
      "3\n",
      "4\n",
      "5\n",
      "prince\n",
      "234.65\n"
     ]
    }
   ],
   "source": [
    "for i in l:\n",
    "    print(i)"
   ]
  },
  {
   "cell_type": "code",
   "execution_count": 44,
   "id": "7d541684",
   "metadata": {},
   "outputs": [
    {
     "name": "stdout",
     "output_type": "stream",
     "text": [
      "2\n",
      "3\n",
      "4\n",
      "5\n",
      "6\n"
     ]
    },
    {
     "ename": "TypeError",
     "evalue": "can only concatenate str (not \"int\") to str",
     "output_type": "error",
     "traceback": [
      "\u001b[1;31m---------------------------------------------------------------------------\u001b[0m",
      "\u001b[1;31mTypeError\u001b[0m                                 Traceback (most recent call last)",
      "\u001b[1;32m<ipython-input-44-8840afee3391>\u001b[0m in \u001b[0;36m<module>\u001b[1;34m\u001b[0m\n\u001b[0;32m      1\u001b[0m \u001b[1;32mfor\u001b[0m \u001b[0mi\u001b[0m \u001b[1;32min\u001b[0m \u001b[0ml\u001b[0m\u001b[1;33m:\u001b[0m\u001b[1;33m\u001b[0m\u001b[1;33m\u001b[0m\u001b[0m\n\u001b[1;32m----> 2\u001b[1;33m     \u001b[0mprint\u001b[0m\u001b[1;33m(\u001b[0m\u001b[0mi\u001b[0m\u001b[1;33m+\u001b[0m\u001b[1;36m1\u001b[0m\u001b[1;33m)\u001b[0m\u001b[1;33m\u001b[0m\u001b[1;33m\u001b[0m\u001b[0m\n\u001b[0m",
      "\u001b[1;31mTypeError\u001b[0m: can only concatenate str (not \"int\") to str"
     ]
    }
   ],
   "source": [
    "for i in l:\n",
    "    print(i+1)"
   ]
  },
  {
   "cell_type": "code",
   "execution_count": 47,
   "id": "1e005d90",
   "metadata": {},
   "outputs": [
    {
     "name": "stdout",
     "output_type": "stream",
     "text": [
      "2\n",
      "3\n",
      "4\n",
      "5\n",
      "6\n",
      "princestr1\n"
     ]
    }
   ],
   "source": [
    "for i in l:\n",
    "    if type(i)==int:\n",
    "        print(i+1)\n",
    "    elif type(i)==str:\n",
    "        print(i+\"str1\")"
   ]
  },
  {
   "cell_type": "code",
   "execution_count": 48,
   "id": "d7a89285",
   "metadata": {},
   "outputs": [
    {
     "data": {
      "text/plain": [
       "[1, 2, 3, 4, 5, 'prince', 234.65]"
      ]
     },
     "execution_count": 48,
     "metadata": {},
     "output_type": "execute_result"
    }
   ],
   "source": [
    "l"
   ]
  },
  {
   "cell_type": "code",
   "execution_count": 49,
   "id": "a4683ee5",
   "metadata": {},
   "outputs": [],
   "source": [
    "l1= []\n",
    "for i in l:\n",
    "    if type(i)==int or type(i)==float:\n",
    "        l1.append(i)"
   ]
  },
  {
   "cell_type": "code",
   "execution_count": 50,
   "id": "94c3d74e",
   "metadata": {},
   "outputs": [
    {
     "data": {
      "text/plain": [
       "[1, 2, 3, 4, 5, 234.65]"
      ]
     },
     "execution_count": 50,
     "metadata": {},
     "output_type": "execute_result"
    }
   ],
   "source": [
    "l1"
   ]
  },
  {
   "cell_type": "code",
   "execution_count": null,
   "id": "80ad9293",
   "metadata": {},
   "outputs": [],
   "source": []
  }
 ],
 "metadata": {
  "kernelspec": {
   "display_name": "Python 3",
   "language": "python",
   "name": "python3"
  },
  "language_info": {
   "codemirror_mode": {
    "name": "ipython",
    "version": 3
   },
   "file_extension": ".py",
   "mimetype": "text/x-python",
   "name": "python",
   "nbconvert_exporter": "python",
   "pygments_lexer": "ipython3",
   "version": "3.8.8"
  }
 },
 "nbformat": 4,
 "nbformat_minor": 5
}
