{
 "cells": [
  {
   "cell_type": "code",
   "execution_count": 1,
   "id": "82b7319a",
   "metadata": {},
   "outputs": [],
   "source": [
    "a = 1\n",
    "b = 10"
   ]
  },
  {
   "cell_type": "code",
   "execution_count": 2,
   "id": "cc06a8b0",
   "metadata": {},
   "outputs": [
    {
     "name": "stdout",
     "output_type": "stream",
     "text": [
      "1\n",
      "2\n",
      "3\n",
      "4\n",
      "5\n",
      "6\n",
      "7\n",
      "8\n",
      "9\n",
      "10\n"
     ]
    }
   ],
   "source": [
    "while a<=b:\n",
    "    print(a)\n",
    "    a = a+1\n",
    "    "
   ]
  },
  {
   "cell_type": "code",
   "execution_count": 3,
   "id": "f45a2844",
   "metadata": {},
   "outputs": [],
   "source": [
    "a= 1 \n",
    "b = 10"
   ]
  },
  {
   "cell_type": "code",
   "execution_count": 4,
   "id": "357c1230",
   "metadata": {},
   "outputs": [
    {
     "name": "stdout",
     "output_type": "stream",
     "text": [
      "1\n",
      "3\n",
      "5\n",
      "7\n",
      "9\n",
      "print this else block\n"
     ]
    }
   ],
   "source": [
    "while a<=b:\n",
    "    print(a)\n",
    "    a =a+2\n",
    "else:\n",
    "    print(\"print this else block\")"
   ]
  },
  {
   "cell_type": "code",
   "execution_count": 5,
   "id": "bceebf96",
   "metadata": {},
   "outputs": [
    {
     "name": "stdout",
     "output_type": "stream",
     "text": [
      "1\n",
      "2\n",
      "3\n",
      "4\n",
      "5\n"
     ]
    }
   ],
   "source": [
    "a = 1\n",
    "b = 10\n",
    "while a<=b:\n",
    "    print(a)\n",
    "    if a==5:\n",
    "        break\n",
    "    a = a+1\n",
    "else:\n",
    "    print(\"print this else block\")"
   ]
  },
  {
   "cell_type": "code",
   "execution_count": null,
   "id": "ee0a03b3",
   "metadata": {},
   "outputs": [],
   "source": [
    "a = 1\n",
    "b = 10\n",
    "while a <=b:\n",
    "    print(a)\n",
    "    if a == 3:\n",
    "        continue\n",
    "    a = a+1"
   ]
  },
  {
   "cell_type": "code",
   "execution_count": 7,
   "id": "ca858d59",
   "metadata": {},
   "outputs": [
    {
     "name": "stdout",
     "output_type": "stream",
     "text": [
      "1\n",
      "2\n",
      "3\n",
      "4\n",
      "5\n",
      "6\n",
      "7\n",
      "8\n",
      "9\n"
     ]
    }
   ],
   "source": [
    "a = 1\n",
    "b = 10\n",
    "while a<b:\n",
    "    print(a)\n",
    "    a =a+1\n",
    "    if a==3:\n",
    "        continue"
   ]
  },
  {
   "cell_type": "code",
   "execution_count": 8,
   "id": "6d183104",
   "metadata": {},
   "outputs": [],
   "source": [
    "l = [1,2,3,4,65,56]"
   ]
  },
  {
   "cell_type": "code",
   "execution_count": 9,
   "id": "9b48ead3",
   "metadata": {},
   "outputs": [
    {
     "name": "stdout",
     "output_type": "stream",
     "text": [
      "1\n",
      "2\n",
      "3\n",
      "4\n",
      "65\n",
      "56\n"
     ]
    }
   ],
   "source": [
    "for i in l:\n",
    "    print(i)"
   ]
  },
  {
   "cell_type": "code",
   "execution_count": 10,
   "id": "8f20d8e6",
   "metadata": {},
   "outputs": [],
   "source": [
    "a = 0"
   ]
  },
  {
   "cell_type": "code",
   "execution_count": 12,
   "id": "a33e4478",
   "metadata": {},
   "outputs": [
    {
     "name": "stdout",
     "output_type": "stream",
     "text": [
      "1\n",
      "2\n",
      "3\n",
      "4\n",
      "65\n",
      "56\n"
     ]
    }
   ],
   "source": [
    "while a<len(l):\n",
    "    print(l[a])\n",
    "    a = a+1"
   ]
  },
  {
   "cell_type": "code",
   "execution_count": 13,
   "id": "b69252d8",
   "metadata": {},
   "outputs": [],
   "source": [
    "t = (3,4,5,6,7,8,9)"
   ]
  },
  {
   "cell_type": "code",
   "execution_count": 16,
   "id": "796bec54",
   "metadata": {},
   "outputs": [
    {
     "name": "stdout",
     "output_type": "stream",
     "text": [
      "3\n",
      "4\n"
     ]
    }
   ],
   "source": [
    "a = 0\n",
    "while a<len(t):\n",
    "    if t[a]==6 or t[a]==7:\n",
    "        print(a)\n",
    "    a = a+1"
   ]
  },
  {
   "cell_type": "code",
   "execution_count": 17,
   "id": "75aed192",
   "metadata": {},
   "outputs": [
    {
     "name": "stdout",
     "output_type": "stream",
     "text": [
      "-3\n",
      "-4\n"
     ]
    }
   ],
   "source": [
    "a = -1\n",
    "while a>=-(len(t)):\n",
    "    if t[a]==6 or t[a]==7:\n",
    "        print(a)\n",
    "    a = a-1"
   ]
  },
  {
   "cell_type": "code",
   "execution_count": 18,
   "id": "58546248",
   "metadata": {},
   "outputs": [],
   "source": [
    "d = {'k1':\"prin\", \"k2\":[1,2,3,4], \"k3\" :(2,3,4,5)}"
   ]
  },
  {
   "cell_type": "code",
   "execution_count": 19,
   "id": "217aafae",
   "metadata": {},
   "outputs": [],
   "source": [
    "a = list(d.keys())"
   ]
  },
  {
   "cell_type": "code",
   "execution_count": 20,
   "id": "94805903",
   "metadata": {},
   "outputs": [
    {
     "data": {
      "text/plain": [
       "['k1', 'k2', 'k3']"
      ]
     },
     "execution_count": 20,
     "metadata": {},
     "output_type": "execute_result"
    }
   ],
   "source": [
    "a"
   ]
  },
  {
   "cell_type": "code",
   "execution_count": 21,
   "id": "5bce7213",
   "metadata": {},
   "outputs": [
    {
     "name": "stdout",
     "output_type": "stream",
     "text": [
      "prin\n",
      "[1, 2, 3, 4]\n",
      "(2, 3, 4, 5)\n"
     ]
    }
   ],
   "source": [
    "b = 0\n",
    "while b<len(a):\n",
    "    print(d[a[b]])\n",
    "    b = b+1"
   ]
  },
  {
   "cell_type": "code",
   "execution_count": 23,
   "id": "aed2a6d8",
   "metadata": {},
   "outputs": [],
   "source": [
    "def test():\n",
    "    print(\"this is my first function\")"
   ]
  },
  {
   "cell_type": "code",
   "execution_count": 24,
   "id": "5a89f19d",
   "metadata": {},
   "outputs": [
    {
     "name": "stdout",
     "output_type": "stream",
     "text": [
      "this is my first function\n"
     ]
    }
   ],
   "source": [
    "test()"
   ]
  },
  {
   "cell_type": "code",
   "execution_count": 25,
   "id": "101f2bb5",
   "metadata": {},
   "outputs": [
    {
     "name": "stdout",
     "output_type": "stream",
     "text": [
      "this is my first function\n"
     ]
    },
    {
     "data": {
      "text/plain": [
       "NoneType"
      ]
     },
     "execution_count": 25,
     "metadata": {},
     "output_type": "execute_result"
    }
   ],
   "source": [
    "type(test())"
   ]
  },
  {
   "cell_type": "code",
   "execution_count": 26,
   "id": "31664520",
   "metadata": {},
   "outputs": [
    {
     "name": "stdout",
     "output_type": "stream",
     "text": [
      "this is my first function\n"
     ]
    },
    {
     "ename": "TypeError",
     "evalue": "unsupported operand type(s) for +: 'NoneType' and 'str'",
     "output_type": "error",
     "traceback": [
      "\u001b[1;31m---------------------------------------------------------------------------\u001b[0m",
      "\u001b[1;31mTypeError\u001b[0m                                 Traceback (most recent call last)",
      "\u001b[1;32m<ipython-input-26-5cb693b5b8ef>\u001b[0m in \u001b[0;36m<module>\u001b[1;34m\u001b[0m\n\u001b[1;32m----> 1\u001b[1;33m \u001b[0mtest\u001b[0m\u001b[1;33m(\u001b[0m\u001b[1;33m)\u001b[0m\u001b[1;33m+\u001b[0m\u001b[1;34m\"prince\"\u001b[0m\u001b[1;33m\u001b[0m\u001b[1;33m\u001b[0m\u001b[0m\n\u001b[0m",
      "\u001b[1;31mTypeError\u001b[0m: unsupported operand type(s) for +: 'NoneType' and 'str'"
     ]
    }
   ],
   "source": [
    "test()+\"prince\""
   ]
  },
  {
   "cell_type": "code",
   "execution_count": 27,
   "id": "acecd17c",
   "metadata": {},
   "outputs": [],
   "source": [
    "def test1():\n",
    "    return \"this is my first function\""
   ]
  },
  {
   "cell_type": "code",
   "execution_count": 28,
   "id": "be3f83a4",
   "metadata": {},
   "outputs": [
    {
     "data": {
      "text/plain": [
       "'this is my first function'"
      ]
     },
     "execution_count": 28,
     "metadata": {},
     "output_type": "execute_result"
    }
   ],
   "source": [
    "test1()"
   ]
  },
  {
   "cell_type": "code",
   "execution_count": 29,
   "id": "c3941a89",
   "metadata": {},
   "outputs": [
    {
     "data": {
      "text/plain": [
       "'this is my first functionprince'"
      ]
     },
     "execution_count": 29,
     "metadata": {},
     "output_type": "execute_result"
    }
   ],
   "source": [
    "test1()+\"prince\""
   ]
  },
  {
   "cell_type": "code",
   "execution_count": 30,
   "id": "f43dc283",
   "metadata": {},
   "outputs": [
    {
     "data": {
      "text/plain": [
       "str"
      ]
     },
     "execution_count": 30,
     "metadata": {},
     "output_type": "execute_result"
    }
   ],
   "source": [
    "type(test1())"
   ]
  },
  {
   "cell_type": "code",
   "execution_count": 31,
   "id": "1e500870",
   "metadata": {},
   "outputs": [],
   "source": [
    "def test2():\n",
    "    pass"
   ]
  },
  {
   "cell_type": "code",
   "execution_count": 32,
   "id": "ecd55b28",
   "metadata": {},
   "outputs": [],
   "source": [
    "test2()"
   ]
  },
  {
   "cell_type": "code",
   "execution_count": 33,
   "id": "1b50c1f0",
   "metadata": {},
   "outputs": [],
   "source": [
    "def test3():\n",
    "    return 1,3,5,[1,2,3,4,54,5]"
   ]
  },
  {
   "cell_type": "code",
   "execution_count": 34,
   "id": "e5df4b6e",
   "metadata": {},
   "outputs": [
    {
     "data": {
      "text/plain": [
       "(1, 3, 5, [1, 2, 3, 4, 54, 5])"
      ]
     },
     "execution_count": 34,
     "metadata": {},
     "output_type": "execute_result"
    }
   ],
   "source": [
    "test3()"
   ]
  },
  {
   "cell_type": "code",
   "execution_count": 35,
   "id": "2e383840",
   "metadata": {},
   "outputs": [],
   "source": [
    "a = test3()"
   ]
  },
  {
   "cell_type": "code",
   "execution_count": 36,
   "id": "9c433144",
   "metadata": {},
   "outputs": [
    {
     "data": {
      "text/plain": [
       "tuple"
      ]
     },
     "execution_count": 36,
     "metadata": {},
     "output_type": "execute_result"
    }
   ],
   "source": [
    "type(a)"
   ]
  },
  {
   "cell_type": "code",
   "execution_count": 37,
   "id": "a64eca5d",
   "metadata": {},
   "outputs": [
    {
     "data": {
      "text/plain": [
       "(1, 3, 5, [1, 2, 3, 4, 54, 5])"
      ]
     },
     "execution_count": 37,
     "metadata": {},
     "output_type": "execute_result"
    }
   ],
   "source": [
    "a"
   ]
  },
  {
   "cell_type": "code",
   "execution_count": 38,
   "id": "078f43ff",
   "metadata": {},
   "outputs": [],
   "source": [
    "a,b,c,d=test3()"
   ]
  },
  {
   "cell_type": "code",
   "execution_count": 39,
   "id": "121e734f",
   "metadata": {},
   "outputs": [
    {
     "data": {
      "text/plain": [
       "(1, 3, 5, [1, 2, 3, 4, 54, 5])"
      ]
     },
     "execution_count": 39,
     "metadata": {},
     "output_type": "execute_result"
    }
   ],
   "source": [
    "a,b,c,d"
   ]
  },
  {
   "cell_type": "code",
   "execution_count": 40,
   "id": "81e07613",
   "metadata": {},
   "outputs": [],
   "source": [
    "def test4():\n",
    "    a = 4*5\n",
    "    b = 6+4\n",
    "    return a,b"
   ]
  },
  {
   "cell_type": "code",
   "execution_count": 41,
   "id": "ddb801f2",
   "metadata": {},
   "outputs": [
    {
     "data": {
      "text/plain": [
       "(20, 10)"
      ]
     },
     "execution_count": 41,
     "metadata": {},
     "output_type": "execute_result"
    }
   ],
   "source": [
    "test4()"
   ]
  },
  {
   "cell_type": "code",
   "execution_count": 42,
   "id": "a2412811",
   "metadata": {},
   "outputs": [],
   "source": [
    "j,k =test4()"
   ]
  },
  {
   "cell_type": "code",
   "execution_count": 43,
   "id": "c2515d8d",
   "metadata": {},
   "outputs": [
    {
     "data": {
      "text/plain": [
       "(20, 10)"
      ]
     },
     "execution_count": 43,
     "metadata": {},
     "output_type": "execute_result"
    }
   ],
   "source": [
    "j,k"
   ]
  },
  {
   "cell_type": "code",
   "execution_count": 44,
   "id": "57d9043b",
   "metadata": {},
   "outputs": [],
   "source": [
    "_,m =test4()"
   ]
  },
  {
   "cell_type": "code",
   "execution_count": 46,
   "id": "5f7c0ad9",
   "metadata": {},
   "outputs": [
    {
     "data": {
      "text/plain": [
       "20"
      ]
     },
     "execution_count": 46,
     "metadata": {},
     "output_type": "execute_result"
    }
   ],
   "source": [
    "_"
   ]
  },
  {
   "cell_type": "code",
   "execution_count": 47,
   "id": "062496aa",
   "metadata": {},
   "outputs": [
    {
     "data": {
      "text/plain": [
       "10"
      ]
     },
     "execution_count": 47,
     "metadata": {},
     "output_type": "execute_result"
    }
   ],
   "source": [
    "m"
   ]
  },
  {
   "cell_type": "code",
   "execution_count": 49,
   "id": "2c9c8ff1",
   "metadata": {},
   "outputs": [],
   "source": [
    "_,_,_,g=test3()"
   ]
  },
  {
   "cell_type": "code",
   "execution_count": 50,
   "id": "2b1cb2b0",
   "metadata": {},
   "outputs": [
    {
     "data": {
      "text/plain": [
       "[1, 2, 3, 4, 54, 5]"
      ]
     },
     "execution_count": 50,
     "metadata": {},
     "output_type": "execute_result"
    }
   ],
   "source": [
    "g"
   ]
  },
  {
   "cell_type": "code",
   "execution_count": 51,
   "id": "a8b067b0",
   "metadata": {},
   "outputs": [],
   "source": [
    "def test5():\n",
    "    a = 1\n",
    "    b = 10\n",
    "    while a <= b:\n",
    "        print(a)\n",
    "        a = a+2\n",
    "    else:\n",
    "        print(\"print this else block\")"
   ]
  },
  {
   "cell_type": "code",
   "execution_count": 52,
   "id": "856a71c7",
   "metadata": {},
   "outputs": [
    {
     "name": "stdout",
     "output_type": "stream",
     "text": [
      "1\n",
      "3\n",
      "5\n",
      "7\n",
      "9\n",
      "print this else block\n"
     ]
    }
   ],
   "source": [
    "test5()"
   ]
  },
  {
   "cell_type": "code",
   "execution_count": 53,
   "id": "42c76dae",
   "metadata": {},
   "outputs": [],
   "source": [
    "def test5(a , b):\n",
    "    while a <= b:\n",
    "        print(a)\n",
    "        a = a+2\n",
    "    else:\n",
    "        print(\"print this else block\")"
   ]
  },
  {
   "cell_type": "code",
   "execution_count": 54,
   "id": "085c52d5",
   "metadata": {},
   "outputs": [
    {
     "name": "stdout",
     "output_type": "stream",
     "text": [
      "1\n",
      "3\n",
      "5\n",
      "7\n",
      "9\n",
      "print this else block\n"
     ]
    }
   ],
   "source": [
    "test5(1,10)"
   ]
  },
  {
   "cell_type": "code",
   "execution_count": 55,
   "id": "e803d2fa",
   "metadata": {},
   "outputs": [
    {
     "name": "stdout",
     "output_type": "stream",
     "text": [
      "3\n",
      "5\n",
      "7\n",
      "9\n",
      "11\n",
      "13\n",
      "15\n",
      "17\n",
      "19\n",
      "21\n",
      "23\n",
      "25\n",
      "27\n",
      "29\n",
      "31\n",
      "33\n",
      "35\n",
      "37\n",
      "39\n",
      "41\n",
      "43\n",
      "45\n",
      "47\n",
      "49\n",
      "51\n",
      "53\n",
      "55\n",
      "print this else block\n"
     ]
    }
   ],
   "source": [
    "test5(3,56)"
   ]
  },
  {
   "cell_type": "code",
   "execution_count": 56,
   "id": "ffe04058",
   "metadata": {},
   "outputs": [
    {
     "name": "stdout",
     "output_type": "stream",
     "text": [
      "print this else block\n"
     ]
    }
   ],
   "source": [
    "test5(30,2)"
   ]
  },
  {
   "cell_type": "code",
   "execution_count": 57,
   "id": "36c1e5b1",
   "metadata": {},
   "outputs": [],
   "source": [
    "def test5(a , b):\n",
    "    l=[]\n",
    "    while a <= b:\n",
    "        l.append(a)\n",
    "        a = a+2\n",
    "    else:\n",
    "        print(\"print this else block\")\n",
    "    return l"
   ]
  },
  {
   "cell_type": "code",
   "execution_count": 58,
   "id": "484e7184",
   "metadata": {},
   "outputs": [
    {
     "name": "stdout",
     "output_type": "stream",
     "text": [
      "print this else block\n"
     ]
    },
    {
     "data": {
      "text/plain": [
       "[1, 3, 5, 7, 9]"
      ]
     },
     "execution_count": 58,
     "metadata": {},
     "output_type": "execute_result"
    }
   ],
   "source": [
    "test5(1,10)"
   ]
  },
  {
   "cell_type": "code",
   "execution_count": 59,
   "id": "83a3dc40",
   "metadata": {},
   "outputs": [],
   "source": [
    "l = [4,5,6,67,7,8,8,9,9,[3,4,5,6,7,7],\"prince\"]"
   ]
  },
  {
   "cell_type": "code",
   "execution_count": 60,
   "id": "0f96d1d2",
   "metadata": {},
   "outputs": [],
   "source": [
    "def test6():\n",
    "    l1=[]\n",
    "    for i in l:\n",
    "        if type(i)==int:\n",
    "            l1.append(i)\n",
    "    return l1"
   ]
  },
  {
   "cell_type": "code",
   "execution_count": 61,
   "id": "33ab4ad1",
   "metadata": {},
   "outputs": [
    {
     "data": {
      "text/plain": [
       "[4, 5, 6, 67, 7, 8, 8, 9, 9]"
      ]
     },
     "execution_count": 61,
     "metadata": {},
     "output_type": "execute_result"
    }
   ],
   "source": [
    "test6()"
   ]
  },
  {
   "cell_type": "code",
   "execution_count": 62,
   "id": "0ba0cfe6",
   "metadata": {},
   "outputs": [],
   "source": [
    "def test7(l):\n",
    "    l1=[]\n",
    "    for i in l:\n",
    "        if type(i)==int:\n",
    "            l1.append(i)\n",
    "    return l1"
   ]
  },
  {
   "cell_type": "code",
   "execution_count": 65,
   "id": "9b5010cd",
   "metadata": {},
   "outputs": [],
   "source": [
    "l3 = [345,45,5,5,6,6,\"prince\",(4,6,6)]"
   ]
  },
  {
   "cell_type": "code",
   "execution_count": 66,
   "id": "67d07fe6",
   "metadata": {},
   "outputs": [
    {
     "data": {
      "text/plain": [
       "[345, 45, 5, 5, 6, 6]"
      ]
     },
     "execution_count": 66,
     "metadata": {},
     "output_type": "execute_result"
    }
   ],
   "source": [
    "test7(l3)"
   ]
  },
  {
   "cell_type": "code",
   "execution_count": 73,
   "id": "702b65c1",
   "metadata": {},
   "outputs": [],
   "source": [
    "def test8(l):\n",
    "    for i in range(-1,-(len(l)),-1):\n",
    "        if l[i]==6 or l[i]==7:\n",
    "                   print(i)"
   ]
  },
  {
   "cell_type": "code",
   "execution_count": 75,
   "id": "4e5855cb",
   "metadata": {},
   "outputs": [
    {
     "name": "stdout",
     "output_type": "stream",
     "text": [
      "-3\n",
      "-4\n"
     ]
    }
   ],
   "source": [
    "test8(l3)"
   ]
  },
  {
   "cell_type": "code",
   "execution_count": 76,
   "id": "694b7ec6",
   "metadata": {},
   "outputs": [
    {
     "name": "stdout",
     "output_type": "stream",
     "text": [
      "-1\n",
      "-2\n",
      "-6\n",
      "-7\n",
      "-8\n"
     ]
    }
   ],
   "source": [
    "test8((3,4,5,66,6,6,7,8,8,8,7,7))"
   ]
  },
  {
   "cell_type": "code",
   "execution_count": null,
   "id": "fd9fbb15",
   "metadata": {},
   "outputs": [],
   "source": []
  }
 ],
 "metadata": {
  "kernelspec": {
   "display_name": "Python 3",
   "language": "python",
   "name": "python3"
  },
  "language_info": {
   "codemirror_mode": {
    "name": "ipython",
    "version": 3
   },
   "file_extension": ".py",
   "mimetype": "text/x-python",
   "name": "python",
   "nbconvert_exporter": "python",
   "pygments_lexer": "ipython3",
   "version": "3.8.8"
  }
 },
 "nbformat": 4,
 "nbformat_minor": 5
}
