{
 "cells": [
  {
   "cell_type": "code",
   "execution_count": 3,
   "id": "e7137742",
   "metadata": {},
   "outputs": [
    {
     "name": "stdout",
     "output_type": "stream",
     "text": [
      "30\n"
     ]
    }
   ],
   "source": [
    "a = 10\n",
    "b = 20\n",
    "c = a+b\n",
    "print(c)"
   ]
  },
  {
   "cell_type": "code",
   "execution_count": 1,
   "id": "e5fb3d5c",
   "metadata": {},
   "outputs": [
    {
     "ename": "SyntaxError",
     "evalue": "incomplete input (1863279263.py, line 4)",
     "output_type": "error",
     "traceback": [
      "\u001b[1;36m  Cell \u001b[1;32mIn[1], line 4\u001b[1;36m\u001b[0m\n\u001b[1;33m    print(c\u001b[0m\n\u001b[1;37m           ^\u001b[0m\n\u001b[1;31mSyntaxError\u001b[0m\u001b[1;31m:\u001b[0m incomplete input\n"
     ]
    }
   ],
   "source": [
    "a = 10\n",
    "b = 20\n",
    "c = a+b\n",
    "print(c   #compile time error or syntax error"
   ]
  },
  {
   "cell_type": "code",
   "execution_count": 2,
   "id": "2e24af05",
   "metadata": {},
   "outputs": [
    {
     "ename": "TypeError",
     "evalue": "unsupported operand type(s) for +: 'int' and 'str'",
     "output_type": "error",
     "traceback": [
      "\u001b[1;31m---------------------------------------------------------------------------\u001b[0m",
      "\u001b[1;31mTypeError\u001b[0m                                 Traceback (most recent call last)",
      "Cell \u001b[1;32mIn[2], line 3\u001b[0m\n\u001b[0;32m      1\u001b[0m a \u001b[38;5;241m=\u001b[39m \u001b[38;5;241m10\u001b[39m\n\u001b[0;32m      2\u001b[0m b \u001b[38;5;241m=\u001b[39m\u001b[38;5;124m\"\u001b[39m\u001b[38;5;124ms\u001b[39m\u001b[38;5;124m\"\u001b[39m\n\u001b[1;32m----> 3\u001b[0m c \u001b[38;5;241m=\u001b[39m \u001b[43ma\u001b[49m\u001b[38;5;241;43m+\u001b[39;49m\u001b[43mb\u001b[49m\n\u001b[0;32m      4\u001b[0m \u001b[38;5;28mprint\u001b[39m(c)\n",
      "\u001b[1;31mTypeError\u001b[0m: unsupported operand type(s) for +: 'int' and 'str'"
     ]
    }
   ],
   "source": [
    "a = 10\n",
    "b =\"s\"\n",
    "c = a+b\n",
    "print(c)  #run time error or exception"
   ]
  },
  {
   "cell_type": "code",
   "execution_count": 6,
   "id": "c245658c",
   "metadata": {},
   "outputs": [
    {
     "name": "stdout",
     "output_type": "stream",
     "text": [
      "enter first number10\n",
      "enter second number0\n"
     ]
    },
    {
     "ename": "ZeroDivisionError",
     "evalue": "division by zero",
     "output_type": "error",
     "traceback": [
      "\u001b[1;31m---------------------------------------------------------------------------\u001b[0m",
      "\u001b[1;31mZeroDivisionError\u001b[0m                         Traceback (most recent call last)",
      "Cell \u001b[1;32mIn[6], line 3\u001b[0m\n\u001b[0;32m      1\u001b[0m a \u001b[38;5;241m=\u001b[39m \u001b[38;5;28mint\u001b[39m(\u001b[38;5;28minput\u001b[39m(\u001b[38;5;124m\"\u001b[39m\u001b[38;5;124menter first number\u001b[39m\u001b[38;5;124m\"\u001b[39m))\n\u001b[0;32m      2\u001b[0m b \u001b[38;5;241m=\u001b[39m \u001b[38;5;28mint\u001b[39m(\u001b[38;5;28minput\u001b[39m(\u001b[38;5;124m\"\u001b[39m\u001b[38;5;124menter second number\u001b[39m\u001b[38;5;124m\"\u001b[39m))\n\u001b[1;32m----> 3\u001b[0m c \u001b[38;5;241m=\u001b[39m \u001b[43ma\u001b[49m\u001b[38;5;241;43m/\u001b[39;49m\u001b[43mb\u001b[49m\n\u001b[0;32m      4\u001b[0m \u001b[38;5;28mprint\u001b[39m(c)\n\u001b[0;32m      5\u001b[0m d \u001b[38;5;241m=\u001b[39m a\u001b[38;5;241m*\u001b[39mb\n",
      "\u001b[1;31mZeroDivisionError\u001b[0m: division by zero"
     ]
    }
   ],
   "source": [
    "a = int(input(\"enter first number\"))\n",
    "b = int(input(\"enter second number\"))\n",
    "c = a/b\n",
    "print(c)\n",
    "d = a*b\n",
    "print(d)"
   ]
  },
  {
   "cell_type": "code",
   "execution_count": null,
   "id": "f0cf2986",
   "metadata": {},
   "outputs": [],
   "source": [
    "#keywords in case of exception handling\n",
    "try \n",
    "except\n",
    "else \n",
    "raise\n",
    "finally"
   ]
  },
  {
   "cell_type": "code",
   "execution_count": 7,
   "id": "7c3c1b8f",
   "metadata": {},
   "outputs": [
    {
     "name": "stdout",
     "output_type": "stream",
     "text": [
      "enter first number10\n",
      "enter second number0\n",
      "b should not be zero\n"
     ]
    }
   ],
   "source": [
    "a = int(input(\"enter first number\"))\n",
    "b = int(input(\"enter second number\"))\n",
    "try:\n",
    "    c = a/b\n",
    "    print(c)\n",
    "except:\n",
    "    print(\"b should not be zero\")"
   ]
  },
  {
   "cell_type": "code",
   "execution_count": 8,
   "id": "ad649a38",
   "metadata": {},
   "outputs": [
    {
     "name": "stdout",
     "output_type": "stream",
     "text": [
      "enter first number10\n",
      "enter second number0\n",
      "b should not be zero\n"
     ]
    }
   ],
   "source": [
    "a = int(input(\"enter first number\"))\n",
    "b = int(input(\"enter second number\"))\n",
    "try:\n",
    "    c = a/b\n",
    "    print(c)\n",
    "except ZeroDivisionError:   #mentioning class of exception\n",
    "    print(\"b should not be zero\")"
   ]
  },
  {
   "cell_type": "code",
   "execution_count": 10,
   "id": "04e6c8bf",
   "metadata": {},
   "outputs": [
    {
     "ename": "SyntaxError",
     "evalue": "unmatched ')' (1304378714.py, line 5)",
     "output_type": "error",
     "traceback": [
      "\u001b[1;36m  Cell \u001b[1;32mIn[10], line 5\u001b[1;36m\u001b[0m\n\u001b[1;33m    print(c))\u001b[0m\n\u001b[1;37m            ^\u001b[0m\n\u001b[1;31mSyntaxError\u001b[0m\u001b[1;31m:\u001b[0m unmatched ')'\n"
     ]
    }
   ],
   "source": [
    "a = int(input(\"enter first number\"))\n",
    "b = int(input(\"enter second number\"))\n",
    "try:\n",
    "    c = a/b\n",
    "    print(c))\n",
    "except:\n",
    "    print(\"wrong syntax\")     #syntax error is not an exception\n",
    "d =a+b"
   ]
  },
  {
   "cell_type": "code",
   "execution_count": 13,
   "id": "a2fe0db8",
   "metadata": {},
   "outputs": [
    {
     "name": "stdout",
     "output_type": "stream",
     "text": [
      "enter first number10\n",
      "enter second number0\n",
      "b should not be zero\n",
      "10\n"
     ]
    }
   ],
   "source": [
    "a = int(input(\"enter first number\"))\n",
    "b = int(input(\"enter second number\"))\n",
    "try:\n",
    "    c = a/b\n",
    "    print(c)\n",
    "except:\n",
    "    print(\"b should not be zero\")     #following code will not be affected\n",
    "d=a+b\n",
    "print(d)"
   ]
  },
  {
   "cell_type": "code",
   "execution_count": null,
   "id": "ec746efb",
   "metadata": {},
   "outputs": [],
   "source": [
    "Write a program to ask the user to input 2 integers and calculate and print their division. Make sure your program behaves as follows:\n",
    "\n",
    "If the user enters a non integer value then ask him to enter only integers\n",
    "\n",
    "If denominator is 0 , then ask him to input non-zero denominator\n",
    "\n",
    "-Repeat the process until correct input is given\n",
    "\n",
    "Only if the inputs are correct then display their division and terminate the code"
   ]
  },
  {
   "cell_type": "code",
   "execution_count": 3,
   "id": "d842e3d4",
   "metadata": {},
   "outputs": [
    {
     "name": "stdout",
     "output_type": "stream",
     "text": [
      "enter first number10\n",
      "enter second numberfasdfasf\n",
      "enter only integers\n",
      "enter first number10\n",
      "enter second number64\n",
      "0.15625\n"
     ]
    }
   ],
   "source": [
    "while True:\n",
    "    try:\n",
    "        a = int(input(\"enter first number\"))\n",
    "        b = int(input(\"enter second number\"))\n",
    "        c = a/b\n",
    "        print(c)\n",
    "        break\n",
    "    except ZeroDivisionError:\n",
    "        print(\"denominator cannot be zero\")\n",
    "    except ValueError:\n",
    "        print(\"enter only integers\")"
   ]
  },
  {
   "cell_type": "code",
   "execution_count": 4,
   "id": "c3a3cec4",
   "metadata": {},
   "outputs": [
    {
     "name": "stdout",
     "output_type": "stream",
     "text": [
      "enter first number10\n",
      "enter second numberasdf\n",
      "denominator cannot be zero and please input integer only\n",
      "enter first number10\n",
      "enter second number4\n",
      "2.5\n"
     ]
    }
   ],
   "source": [
    "while True:\n",
    "    try:\n",
    "        a = int(input(\"enter first number\"))\n",
    "        b = int(input(\"enter second number\"))\n",
    "        c = a/b\n",
    "        print(c)\n",
    "        break\n",
    "    except (ZeroDivisionError, ValueError):  #we can mention both the exception classes under a common bracket\n",
    "        print(\"denominator cannot be zero and please input integer only\")"
   ]
  },
  {
   "cell_type": "code",
   "execution_count": null,
   "id": "d593f813",
   "metadata": {},
   "outputs": [],
   "source": [
    "while True:\n",
    "    try:\n",
    "        a = int(input(\"enter first number\"))\n",
    "        b = int(input(\"enter second number\"))\n",
    "        c =a/b\n",
    "        print(c)\n",
    "        d = a +str(b)\n",
    "        print(d)\n",
    "        break\n",
    "    except ZeroDivisionError:\n",
    "        print(\"denominator cannot be zero\")\n",
    "    except ValueError:\n",
    "        print(\"enter only integers\")\n",
    "    except TypeError:\n",
    "        print(\"different data types cannot be concatenated\")"
   ]
  },
  {
   "cell_type": "code",
   "execution_count": 3,
   "id": "c4ae4c59",
   "metadata": {},
   "outputs": [
    {
     "name": "stdout",
     "output_type": "stream",
     "text": [
      "enter your name:priya\n",
      "enter your name:prince\n",
      "this is my name\n"
     ]
    }
   ],
   "source": [
    "while True:\n",
    "    name =input(\"enter your name:\")\n",
    "    if name=='prince' or name==\"Prince\":\n",
    "        print(\"this is my name\")\n",
    "        break"
   ]
  },
  {
   "cell_type": "code",
   "execution_count": 5,
   "id": "e90eea7b",
   "metadata": {},
   "outputs": [
    {
     "name": "stdout",
     "output_type": "stream",
     "text": [
      "enter first number10\n",
      "enter second number0\n",
      "division by zero\n",
      "enter first number10\n",
      "enter second number4\n",
      "2.5\n"
     ]
    }
   ],
   "source": [
    "while True:\n",
    "    try:\n",
    "        a = int(input(\"enter first number\"))\n",
    "        b = int(input(\"enter second number\"))\n",
    "        c =a/b\n",
    "        print(c)\n",
    "        break\n",
    "    except ZeroDivisionError as e:\n",
    "        print(e)"
   ]
  },
  {
   "cell_type": "code",
   "execution_count": 6,
   "id": "9fd2dfc0",
   "metadata": {},
   "outputs": [
    {
     "name": "stdout",
     "output_type": "stream",
     "text": [
      "enter first number10\n",
      "enter second number0\n",
      "division by zero\n",
      "enter first number10\n",
      "enter second number6\n",
      "1.6666666666666667\n"
     ]
    }
   ],
   "source": [
    "while True:\n",
    "    try:\n",
    "        a = int(input(\"enter first number\"))\n",
    "        b = int(input(\"enter second number\"))\n",
    "        c =a/b\n",
    "        print(c)\n",
    "        break\n",
    "    except ZeroDivisionError as p:\n",
    "        print(p)"
   ]
  },
  {
   "cell_type": "code",
   "execution_count": 7,
   "id": "685f907e",
   "metadata": {},
   "outputs": [
    {
     "name": "stdout",
     "output_type": "stream",
     "text": [
      "enter first number10\n",
      "enter second number0\n",
      "(<class 'ZeroDivisionError'>, ZeroDivisionError('division by zero'), <traceback object at 0x0000019861FCF900>)\n",
      "enter first number10\n",
      "enter second number5\n",
      "2.0\n"
     ]
    }
   ],
   "source": [
    "import sys\n",
    "while True:\n",
    "    try:\n",
    "        a = int(input(\"enter first number\"))\n",
    "        b = int(input(\"enter second number\"))\n",
    "        c =a/b\n",
    "        print(c)\n",
    "        break\n",
    "    except:\n",
    "        print(sys.exc_info())"
   ]
  },
  {
   "cell_type": "code",
   "execution_count": 9,
   "id": "0fc106bf",
   "metadata": {},
   "outputs": [
    {
     "name": "stdout",
     "output_type": "stream",
     "text": [
      "enter first number10\n",
      "enter second number0\n",
      "exception class <class 'ZeroDivisionError'>\n",
      "exception message division by zero\n",
      "line number 6\n",
      "enter first number10\n",
      "enter second number9\n",
      "1.1111111111111112\n"
     ]
    }
   ],
   "source": [
    "import sys\n",
    "while True:\n",
    "    try:\n",
    "        a = int(input(\"enter first number\"))\n",
    "        b = int(input(\"enter second number\"))\n",
    "        c =a/b\n",
    "        print(c)\n",
    "        break\n",
    "    except:\n",
    "        a,b,c= sys.exc_info()\n",
    "        print(\"exception class\",a)\n",
    "        print(\"exception message\",b)\n",
    "        print(\"line number\",c.tb_lineno)"
   ]
  },
  {
   "cell_type": "code",
   "execution_count": 10,
   "id": "c144e0c7",
   "metadata": {},
   "outputs": [],
   "source": [
    "import traceback.format_exc()"
   ]
  },
  {
   "cell_type": "code",
   "execution_count": 11,
   "id": "13709c2d",
   "metadata": {},
   "outputs": [
    {
     "name": "stdout",
     "output_type": "stream",
     "text": [
      "enter first number10\n",
      "enter second number0\n",
      "Traceback (most recent call last):\n",
      "  File \"C:\\Users\\Prince\\AppData\\Local\\Temp\\ipykernel_10080\\3152764290.py\", line 6, in <module>\n",
      "    c =a/b\n",
      "ZeroDivisionError: division by zero\n",
      "\n",
      "enter first number10\n",
      "enter second number4\n",
      "2.5\n"
     ]
    }
   ],
   "source": [
    "import traceback\n",
    "while True:\n",
    "    try:\n",
    "        a = int(input(\"enter first number\"))\n",
    "        b = int(input(\"enter second number\"))\n",
    "        c =a/b\n",
    "        print(c)\n",
    "        break\n",
    "    except:\n",
    "        print(traceback.format_exc())"
   ]
  },
  {
   "cell_type": "code",
   "execution_count": 16,
   "id": "af886098",
   "metadata": {},
   "outputs": [],
   "source": [
    "#raise exception: which is made at custom line"
   ]
  },
  {
   "cell_type": "code",
   "execution_count": 19,
   "id": "85f64ed0",
   "metadata": {},
   "outputs": [
    {
     "name": "stdout",
     "output_type": "stream",
     "text": [
      "first number : 10\n",
      "second number: asdf\n",
      "please enter int only\n",
      "first number : 10\n",
      "second number: 0\n",
      "please enter non zero denominator\n",
      "first number : 10\n",
      "second number: -1\n",
      "negative number not allowed\n",
      "first number : 10\n",
      "second number: 8\n",
      "div is  1.25\n"
     ]
    }
   ],
   "source": [
    "while True:\n",
    "    try:\n",
    "        a =int(input(\"first number : \"))\n",
    "        b =int(input(\"second number: \"))\n",
    "        if a<0 or b<0: \n",
    "            raise Exception(\"negative number not allowed\")\n",
    "        c = a/b\n",
    "        print(\"div is \",c)\n",
    "        break\n",
    "    except ValueError:\n",
    "        print(\"please enter int only\")\n",
    "    except ZeroDivisionError:\n",
    "        print(\"please enter non zero denominator\")\n",
    "    except Exception as e:\n",
    "        print(e)"
   ]
  },
  {
   "cell_type": "code",
   "execution_count": 20,
   "id": "65f326ea",
   "metadata": {},
   "outputs": [],
   "source": [
    "#custom Exception can be also made using raise keyword"
   ]
  },
  {
   "cell_type": "code",
   "execution_count": 23,
   "id": "131379ff",
   "metadata": {},
   "outputs": [
    {
     "name": "stdout",
     "output_type": "stream",
     "text": [
      "first number : 10\n",
      "second number: -1\\\n",
      "please enter int only\n",
      "first number : 10\n",
      "second number: -3\n",
      "negative number not allowed\n",
      "first number : 10\n",
      "second number: 8\n",
      "div is  1.25\n"
     ]
    }
   ],
   "source": [
    "while True:\n",
    "    try:\n",
    "        a =int(input(\"first number : \"))\n",
    "        b =int(input(\"second number: \"))\n",
    "        if a<0 or b<0: \n",
    "            raise NegativeNumberException(\"negative number not allowed\")\n",
    "        c = a/b\n",
    "        print(\"div is \",c)\n",
    "        break\n",
    "    except ValueError:\n",
    "        print(\"please enter int only\")\n",
    "    except ZeroDivisionError:\n",
    "        print(\"please enter non zero denominator\")\n",
    "    except NegativeNumberException as e:\n",
    "        print(e)"
   ]
  },
  {
   "cell_type": "markdown",
   "id": "c9009184",
   "metadata": {},
   "source": [
    "## exception class in python already they have defined and we are calling this class"
   ]
  },
  {
   "cell_type": "markdown",
   "id": "27bc82a7",
   "metadata": {},
   "source": [
    "### if you are going to define this class in your code so it will run"
   ]
  },
  {
   "cell_type": "code",
   "execution_count": 22,
   "id": "dbd2c934",
   "metadata": {},
   "outputs": [],
   "source": [
    "class NegativeNumberException(Exception):\n",
    "    pass"
   ]
  },
  {
   "cell_type": "markdown",
   "id": "8edba43b",
   "metadata": {},
   "source": [
    "# final block"
   ]
  },
  {
   "cell_type": "code",
   "execution_count": 28,
   "id": "64dc1e35",
   "metadata": {},
   "outputs": [
    {
     "name": "stdout",
     "output_type": "stream",
     "text": [
      "first number-10\n",
      "second number-4\n",
      "2.5\n",
      "hello\n",
      "python\n"
     ]
    }
   ],
   "source": [
    "try:\n",
    "    a = int(input(\"first number-\"))\n",
    "    b = int(input(\"second number-\"))\n",
    "    c = a/b\n",
    "    print(c)\n",
    "except:\n",
    "    print(\"dont use zero in denominator\")\n",
    "    \n",
    "finally:\n",
    "    print(\"hello\")\n",
    "    print(\"python\")\n",
    "\n"
   ]
  },
  {
   "cell_type": "code",
   "execution_count": 30,
   "id": "0b96b02c",
   "metadata": {},
   "outputs": [
    {
     "name": "stdout",
     "output_type": "stream",
     "text": [
      "first number-10\n",
      "second number-4\n",
      "2.5\n",
      "python rocks!!\n"
     ]
    }
   ],
   "source": [
    "try:\n",
    "    a = int(input(\"first number-\"))\n",
    "    b = int(input(\"second number-\"))\n",
    "    c = a/b\n",
    "    print(c)\n",
    "except:\n",
    "    print(\"dont use zero in denominator\")\n",
    "else:\n",
    "    print(\"python rocks!!\")   #if there is no Exception then the else block will be printed"
   ]
  },
  {
   "cell_type": "code",
   "execution_count": null,
   "id": "437b8cbd",
   "metadata": {},
   "outputs": [],
   "source": []
  }
 ],
 "metadata": {
  "kernelspec": {
   "display_name": "Python 3 (ipykernel)",
   "language": "python",
   "name": "python3"
  },
  "language_info": {
   "codemirror_mode": {
    "name": "ipython",
    "version": 3
   },
   "file_extension": ".py",
   "mimetype": "text/x-python",
   "name": "python",
   "nbconvert_exporter": "python",
   "pygments_lexer": "ipython3",
   "version": "3.10.9"
  }
 },
 "nbformat": 4,
 "nbformat_minor": 5
}
