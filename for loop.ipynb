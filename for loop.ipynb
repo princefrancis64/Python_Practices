{
 "cells": [
  {
   "cell_type": "code",
   "execution_count": 1,
   "id": "5ebedfc4",
   "metadata": {},
   "outputs": [],
   "source": [
    "l = [1,2,3,4,'prince','francis',45.99]"
   ]
  },
  {
   "cell_type": "code",
   "execution_count": 2,
   "id": "36ccd21a",
   "metadata": {},
   "outputs": [
    {
     "name": "stdout",
     "output_type": "stream",
     "text": [
      "1\n",
      "2\n",
      "3\n",
      "4\n",
      "prince\n",
      "francis\n",
      "45.99\n"
     ]
    }
   ],
   "source": [
    "for i in l:\n",
    "    print(i)"
   ]
  },
  {
   "cell_type": "code",
   "execution_count": 3,
   "id": "0084f490",
   "metadata": {},
   "outputs": [
    {
     "name": "stdout",
     "output_type": "stream",
     "text": [
      "prince\n",
      "prince\n",
      "prince\n",
      "prince\n",
      "prince\n",
      "prince\n",
      "prince\n"
     ]
    }
   ],
   "source": [
    "for i in l:\n",
    "    print(\"prince\")"
   ]
  },
  {
   "cell_type": "code",
   "execution_count": 5,
   "id": "05bcd196",
   "metadata": {},
   "outputs": [
    {
     "ename": "SyntaxError",
     "evalue": "incomplete input (239044884.py, line 1)",
     "output_type": "error",
     "traceback": [
      "\u001b[1;36m  Cell \u001b[1;32mIn[5], line 1\u001b[1;36m\u001b[0m\n\u001b[1;33m    for i in l:\u001b[0m\n\u001b[1;37m               ^\u001b[0m\n\u001b[1;31mSyntaxError\u001b[0m\u001b[1;31m:\u001b[0m incomplete input\n"
     ]
    }
   ],
   "source": [
    "for i in l:"
   ]
  },
  {
   "cell_type": "code",
   "execution_count": 6,
   "id": "40078f78",
   "metadata": {},
   "outputs": [],
   "source": [
    "for i in l:\n",
    "    pass"
   ]
  },
  {
   "cell_type": "code",
   "execution_count": 7,
   "id": "44a1f7c4",
   "metadata": {},
   "outputs": [],
   "source": [
    "p = \"prince\""
   ]
  },
  {
   "cell_type": "code",
   "execution_count": 8,
   "id": "346746e8",
   "metadata": {},
   "outputs": [
    {
     "name": "stdout",
     "output_type": "stream",
     "text": [
      "p\n",
      "r\n",
      "i\n",
      "n\n",
      "c\n",
      "e\n"
     ]
    }
   ],
   "source": [
    "for i in p:\n",
    "    print(i)"
   ]
  },
  {
   "cell_type": "code",
   "execution_count": 9,
   "id": "f9e46699",
   "metadata": {},
   "outputs": [
    {
     "name": "stdout",
     "output_type": "stream",
     "text": [
      "1\n",
      "2\n",
      "3\n",
      "4\n",
      "prince\n",
      "francis\n",
      "45.99\n",
      "after the loop will get executed it will come to else\n"
     ]
    }
   ],
   "source": [
    "for i in l:\n",
    "    print(i)\n",
    "else:\n",
    "    print(\"after the loop will get executed it will come to else\")"
   ]
  },
  {
   "cell_type": "code",
   "execution_count": 10,
   "id": "d0712f6e",
   "metadata": {},
   "outputs": [
    {
     "name": "stdout",
     "output_type": "stream",
     "text": [
      "1\n",
      "2\n",
      "3\n"
     ]
    }
   ],
   "source": [
    "for i in l:\n",
    "    if i==4:\n",
    "        break\n",
    "    print(i)\n",
    "else:\n",
    "    print(\"else will be executed after the for loop\")"
   ]
  },
  {
   "cell_type": "code",
   "execution_count": 11,
   "id": "58e29290",
   "metadata": {},
   "outputs": [
    {
     "name": "stdout",
     "output_type": "stream",
     "text": [
      "p\n",
      "r\n",
      "i\n"
     ]
    }
   ],
   "source": [
    "p = \"prince\"\n",
    "for i in p:\n",
    "    if i=='n':\n",
    "        break\n",
    "    print(i)\n",
    "else:\n",
    "    print(\"print string\",s)"
   ]
  },
  {
   "cell_type": "code",
   "execution_count": 12,
   "id": "bdbaadb9",
   "metadata": {},
   "outputs": [
    {
     "name": "stdout",
     "output_type": "stream",
     "text": [
      "p\n",
      "r\n",
      "i\n",
      "n\n",
      "c\n",
      "e\n",
      "print string prince\n"
     ]
    }
   ],
   "source": [
    "p ='prince'\n",
    "for i in p:\n",
    "    if i=='s':\n",
    "        break\n",
    "    print(i)\n",
    "else:\n",
    "    print(\"print string\",p)"
   ]
  },
  {
   "cell_type": "code",
   "execution_count": 13,
   "id": "1c375a65",
   "metadata": {},
   "outputs": [],
   "source": [
    "t = (4,5,6,8,'prince')"
   ]
  },
  {
   "cell_type": "code",
   "execution_count": 14,
   "id": "14f5342c",
   "metadata": {},
   "outputs": [
    {
     "name": "stdout",
     "output_type": "stream",
     "text": [
      "4\n",
      "5\n",
      "6\n",
      "8\n",
      "prince\n"
     ]
    }
   ],
   "source": [
    "for i in t:\n",
    "    print(i)"
   ]
  },
  {
   "cell_type": "code",
   "execution_count": 15,
   "id": "40d09271",
   "metadata": {},
   "outputs": [],
   "source": [
    "b={4,5,6,7,7,7,7,7,7,8,'sudh'}"
   ]
  },
  {
   "cell_type": "code",
   "execution_count": 17,
   "id": "24a9ad1e",
   "metadata": {},
   "outputs": [
    {
     "data": {
      "text/plain": [
       "set"
      ]
     },
     "execution_count": 17,
     "metadata": {},
     "output_type": "execute_result"
    }
   ],
   "source": [
    "type(b)"
   ]
  },
  {
   "cell_type": "code",
   "execution_count": 18,
   "id": "8ab6b553",
   "metadata": {},
   "outputs": [
    {
     "data": {
      "text/plain": [
       "{4, 5, 6, 7, 8, 'sudh'}"
      ]
     },
     "execution_count": 18,
     "metadata": {},
     "output_type": "execute_result"
    }
   ],
   "source": [
    "b"
   ]
  },
  {
   "cell_type": "code",
   "execution_count": 19,
   "id": "5e24928e",
   "metadata": {},
   "outputs": [
    {
     "name": "stdout",
     "output_type": "stream",
     "text": [
      "4\n",
      "5\n",
      "6\n",
      "7\n",
      "8\n",
      "sudh\n"
     ]
    }
   ],
   "source": [
    "for i in b:\n",
    "    print(i)"
   ]
  },
  {
   "cell_type": "code",
   "execution_count": 20,
   "id": "eefb1ad0",
   "metadata": {},
   "outputs": [],
   "source": [
    "d= {'key1':'prince' , 'contact':'prince.francis64','position': 'xyz'}"
   ]
  },
  {
   "cell_type": "code",
   "execution_count": 21,
   "id": "e2c10f68",
   "metadata": {},
   "outputs": [
    {
     "name": "stdout",
     "output_type": "stream",
     "text": [
      "key1\n",
      "contact\n",
      "position\n"
     ]
    }
   ],
   "source": [
    "for i in d:\n",
    "    print(i)"
   ]
  },
  {
   "cell_type": "code",
   "execution_count": 22,
   "id": "817ce4fb",
   "metadata": {},
   "outputs": [
    {
     "data": {
      "text/plain": [
       "'prince'"
      ]
     },
     "execution_count": 22,
     "metadata": {},
     "output_type": "execute_result"
    }
   ],
   "source": [
    "d['key1']"
   ]
  },
  {
   "cell_type": "code",
   "execution_count": 23,
   "id": "0ef61c7e",
   "metadata": {},
   "outputs": [
    {
     "name": "stdout",
     "output_type": "stream",
     "text": [
      "key1 - prince\n",
      "contact - prince.francis64\n",
      "position - xyz\n"
     ]
    }
   ],
   "source": [
    "for i in d:\n",
    "    print(i,'-',d[i])"
   ]
  },
  {
   "cell_type": "code",
   "execution_count": 24,
   "id": "8b9ee2b7",
   "metadata": {},
   "outputs": [],
   "source": [
    "p ='prince'"
   ]
  },
  {
   "cell_type": "code",
   "execution_count": 25,
   "id": "866e7e51",
   "metadata": {},
   "outputs": [
    {
     "data": {
      "text/plain": [
       "range(0, 9)"
      ]
     },
     "execution_count": 25,
     "metadata": {},
     "output_type": "execute_result"
    }
   ],
   "source": [
    "range(9)"
   ]
  },
  {
   "cell_type": "code",
   "execution_count": 26,
   "id": "d5beca80",
   "metadata": {},
   "outputs": [
    {
     "data": {
      "text/plain": [
       "[0, 1, 2, 3, 4, 5, 6, 7, 8]"
      ]
     },
     "execution_count": 26,
     "metadata": {},
     "output_type": "execute_result"
    }
   ],
   "source": [
    "list(range(9))"
   ]
  },
  {
   "cell_type": "code",
   "execution_count": 27,
   "id": "25268dce",
   "metadata": {},
   "outputs": [
    {
     "name": "stdout",
     "output_type": "stream",
     "text": [
      "0\n",
      "1\n",
      "2\n",
      "3\n",
      "4\n",
      "5\n",
      "6\n",
      "7\n",
      "8\n"
     ]
    }
   ],
   "source": [
    "for i in range(9):\n",
    "    print(i)"
   ]
  },
  {
   "cell_type": "code",
   "execution_count": 28,
   "id": "c25abf67",
   "metadata": {},
   "outputs": [
    {
     "data": {
      "text/plain": [
       "range(0, 9)"
      ]
     },
     "execution_count": 28,
     "metadata": {},
     "output_type": "execute_result"
    }
   ],
   "source": [
    "range(0,9)"
   ]
  },
  {
   "cell_type": "code",
   "execution_count": 29,
   "id": "1293eef5",
   "metadata": {},
   "outputs": [
    {
     "data": {
      "text/plain": [
       "[0, 1, 2, 3, 4, 5, 6, 7, 8]"
      ]
     },
     "execution_count": 29,
     "metadata": {},
     "output_type": "execute_result"
    }
   ],
   "source": [
    "list(range(0,9))"
   ]
  },
  {
   "cell_type": "code",
   "execution_count": 30,
   "id": "4fbf9a17",
   "metadata": {},
   "outputs": [
    {
     "data": {
      "text/plain": [
       "[1, 2, 3, 4, 5, 6, 7]"
      ]
     },
     "execution_count": 30,
     "metadata": {},
     "output_type": "execute_result"
    }
   ],
   "source": [
    "list(range(1,8))"
   ]
  },
  {
   "cell_type": "code",
   "execution_count": 31,
   "id": "22cbe990",
   "metadata": {},
   "outputs": [
    {
     "data": {
      "text/plain": [
       "[0, 2, 4, 6, 8]"
      ]
     },
     "execution_count": 31,
     "metadata": {},
     "output_type": "execute_result"
    }
   ],
   "source": [
    "list(range(0,9,2))"
   ]
  },
  {
   "cell_type": "code",
   "execution_count": 32,
   "id": "5b3f6a3a",
   "metadata": {},
   "outputs": [
    {
     "name": "stdout",
     "output_type": "stream",
     "text": [
      "prince \n",
      "\n",
      "prince prince \n",
      "\n",
      "prince prince prince \n",
      "\n",
      "prince prince prince prince \n",
      "\n"
     ]
    }
   ],
   "source": [
    "for i in range(4):\n",
    "    for j in range(0,i+1):\n",
    "        print(\"prince\",end=' ')\n",
    "    print('\\n')"
   ]
  },
  {
   "cell_type": "code",
   "execution_count": 34,
   "id": "042610d7",
   "metadata": {},
   "outputs": [
    {
     "name": "stdout",
     "output_type": "stream",
     "text": [
      "   prince \n",
      "  prince prince \n",
      " prince prince prince \n"
     ]
    }
   ],
   "source": [
    "n = 3\n",
    "k = 3\n",
    "for i in range(n):\n",
    "    k = k-1\n",
    "    print(' '*k, end=' ')\n",
    "    for j in range(i+1):\n",
    "        print('prince',end = ' t= (3,23,45,67,2,4,5,6)')\n",
    "    print()"
   ]
  },
  {
   "cell_type": "code",
   "execution_count": 35,
   "id": "825688b6",
   "metadata": {},
   "outputs": [],
   "source": [
    "t= (3,23,45,67,2,4,5,6)"
   ]
  },
  {
   "cell_type": "code",
   "execution_count": 36,
   "id": "7378bd13",
   "metadata": {},
   "outputs": [
    {
     "name": "stdout",
     "output_type": "stream",
     "text": [
      "0 3\n",
      "1 23\n",
      "2 45\n",
      "3 67\n",
      "4 2\n",
      "5 4\n",
      "6 5\n",
      "7 6\n"
     ]
    }
   ],
   "source": [
    "for i in range(len(t)):\n",
    "    print(i,t[i])"
   ]
  },
  {
   "cell_type": "code",
   "execution_count": 37,
   "id": "975a9d90",
   "metadata": {},
   "outputs": [],
   "source": [
    "s = 'iNeuron'"
   ]
  },
  {
   "cell_type": "code",
   "execution_count": 38,
   "id": "2cc320c5",
   "metadata": {},
   "outputs": [
    {
     "name": "stdout",
     "output_type": "stream",
     "text": [
      "0 i\n",
      "1 N\n",
      "2 e\n",
      "3 u\n",
      "4 r\n",
      "5 o\n",
      "6 n\n"
     ]
    }
   ],
   "source": [
    "for i in range(len(s)):\n",
    "    print(i,s[i])"
   ]
  },
  {
   "cell_type": "code",
   "execution_count": 39,
   "id": "89591b2b",
   "metadata": {},
   "outputs": [
    {
     "data": {
      "text/plain": [
       "[0, 1, 2, 3, 4, 5, 6]"
      ]
     },
     "execution_count": 39,
     "metadata": {},
     "output_type": "execute_result"
    }
   ],
   "source": [
    "list(range(len(s)))"
   ]
  },
  {
   "cell_type": "code",
   "execution_count": 40,
   "id": "6c341f29",
   "metadata": {},
   "outputs": [
    {
     "name": "stdout",
     "output_type": "stream",
     "text": [
      "6 n\n",
      "5 o\n",
      "4 r\n",
      "3 u\n",
      "2 e\n",
      "1 N\n",
      "0 i\n"
     ]
    }
   ],
   "source": [
    "for i in range(len(s),0,-1):\n",
    "    i = i-1\n",
    "    print(i,s[i])"
   ]
  },
  {
   "cell_type": "code",
   "execution_count": 41,
   "id": "52322511",
   "metadata": {},
   "outputs": [
    {
     "data": {
      "text/plain": [
       "{'key1': 'prince', 'contact': 'prince.francis64', 'position': 'xyz'}"
      ]
     },
     "execution_count": 41,
     "metadata": {},
     "output_type": "execute_result"
    }
   ],
   "source": [
    "d"
   ]
  },
  {
   "cell_type": "code",
   "execution_count": 42,
   "id": "8e06ffd0",
   "metadata": {},
   "outputs": [
    {
     "data": {
      "text/plain": [
       "dict_items([('key1', 'prince'), ('contact', 'prince.francis64'), ('position', 'xyz')])"
      ]
     },
     "execution_count": 42,
     "metadata": {},
     "output_type": "execute_result"
    }
   ],
   "source": [
    "d.items()"
   ]
  },
  {
   "cell_type": "code",
   "execution_count": 43,
   "id": "b59dd8df",
   "metadata": {},
   "outputs": [
    {
     "name": "stdout",
     "output_type": "stream",
     "text": [
      "('key1', 'prince') <class 'tuple'> <class 'str'>\n",
      "('contact', 'prince.francis64') <class 'tuple'> <class 'str'>\n",
      "('position', 'xyz') <class 'tuple'> <class 'str'>\n"
     ]
    }
   ],
   "source": [
    "for i in d.items():\n",
    "    print(i,type(i),type(i[1]))"
   ]
  },
  {
   "cell_type": "code",
   "execution_count": 44,
   "id": "91308e1e",
   "metadata": {},
   "outputs": [],
   "source": [
    "l=['prince','francis',3236565,'prince.francis64@gmail.com',345,656546]"
   ]
  },
  {
   "cell_type": "code",
   "execution_count": 45,
   "id": "1cf918b8",
   "metadata": {},
   "outputs": [],
   "source": [
    "l1= []"
   ]
  },
  {
   "cell_type": "code",
   "execution_count": 46,
   "id": "2487a9c9",
   "metadata": {},
   "outputs": [],
   "source": [
    "for i in l:\n",
    "    if type(i)==int:\n",
    "        l1.append(i)"
   ]
  },
  {
   "cell_type": "code",
   "execution_count": 47,
   "id": "9300283b",
   "metadata": {},
   "outputs": [
    {
     "data": {
      "text/plain": [
       "[3236565, 345, 656546]"
      ]
     },
     "execution_count": 47,
     "metadata": {},
     "output_type": "execute_result"
    }
   ],
   "source": [
    "l1"
   ]
  },
  {
   "cell_type": "code",
   "execution_count": 48,
   "id": "e6368dd6",
   "metadata": {},
   "outputs": [],
   "source": [
    "d= {1: 64646 , 'name':'prince' , 'email' : 'prince.francis64@gmail.com', 234:'jlkjlkj', '43':'lkjlkj',234:'6566'}"
   ]
  },
  {
   "cell_type": "code",
   "execution_count": 49,
   "id": "2b7d2b11",
   "metadata": {},
   "outputs": [
    {
     "name": "stdout",
     "output_type": "stream",
     "text": [
      "1 : 64646\n",
      "234 : 6566\n"
     ]
    }
   ],
   "source": [
    "for i in d.keys():\n",
    "    if type(i)==int:\n",
    "        print(i,':',d[i])"
   ]
  },
  {
   "cell_type": "code",
   "execution_count": 50,
   "id": "52b68d53",
   "metadata": {},
   "outputs": [
    {
     "name": "stdout",
     "output_type": "stream",
     "text": [
      "1\n",
      "name\n",
      "email\n",
      "234\n",
      "43\n"
     ]
    }
   ],
   "source": [
    "for i in d:\n",
    "    print(i)"
   ]
  },
  {
   "cell_type": "code",
   "execution_count": 51,
   "id": "ba2f8144",
   "metadata": {},
   "outputs": [],
   "source": [
    "s='aaaabbccd'"
   ]
  },
  {
   "cell_type": "code",
   "execution_count": 58,
   "id": "9d4e41c0",
   "metadata": {},
   "outputs": [
    {
     "name": "stdout",
     "output_type": "stream",
     "text": [
      "b - 2\n",
      "d - 1\n",
      "a - 4\n",
      "c - 2\n"
     ]
    }
   ],
   "source": [
    "for i in set(s):\n",
    "    print(i,'-',s.count(i))"
   ]
  },
  {
   "cell_type": "code",
   "execution_count": 60,
   "id": "aebd55b6",
   "metadata": {},
   "outputs": [
    {
     "data": {
      "text/plain": [
       "4"
      ]
     },
     "execution_count": 60,
     "metadata": {},
     "output_type": "execute_result"
    }
   ],
   "source": [
    "s.count('a')"
   ]
  },
  {
   "cell_type": "code",
   "execution_count": 61,
   "id": "323d5f47",
   "metadata": {},
   "outputs": [],
   "source": [
    "i= 4654645465"
   ]
  },
  {
   "cell_type": "code",
   "execution_count": 67,
   "id": "8625edf3",
   "metadata": {},
   "outputs": [
    {
     "name": "stdout",
     "output_type": "stream",
     "text": [
      "4 <class 'int'>\n",
      "6 <class 'int'>\n",
      "5 <class 'int'>\n",
      "4 <class 'int'>\n",
      "6 <class 'int'>\n",
      "4 <class 'int'>\n",
      "5 <class 'int'>\n",
      "4 <class 'int'>\n",
      "6 <class 'int'>\n",
      "5 <class 'int'>\n"
     ]
    }
   ],
   "source": [
    "for j in str(i):\n",
    "    print(j,type(int(j)))"
   ]
  },
  {
   "cell_type": "code",
   "execution_count": 68,
   "id": "55e62356",
   "metadata": {},
   "outputs": [],
   "source": [
    "t=('prince', 'francis', [1,2,3,4,5] , (3,4,5,6) , {3:3,'key2':'francis'})"
   ]
  },
  {
   "cell_type": "code",
   "execution_count": 72,
   "id": "5b0425f1",
   "metadata": {},
   "outputs": [
    {
     "name": "stdout",
     "output_type": "stream",
     "text": [
      "3\n",
      "3\n",
      "3 3\n"
     ]
    }
   ],
   "source": [
    "for i in t:\n",
    "    if type(i)==list or type(i)==tuple:\n",
    "        for j in i:\n",
    "            if j==3:\n",
    "                print(j)\n",
    "    elif type(i)==dict:\n",
    "        for k,v in i.items():\n",
    "            if k==3 or v==3:\n",
    "                print(k,v)"
   ]
  },
  {
   "cell_type": "code",
   "execution_count": 73,
   "id": "05f0ec15",
   "metadata": {},
   "outputs": [],
   "source": [
    "d={4:5 , 'key1':'prince', 'key2':'francis'}"
   ]
  },
  {
   "cell_type": "code",
   "execution_count": 75,
   "id": "7ec1758b",
   "metadata": {},
   "outputs": [
    {
     "name": "stdout",
     "output_type": "stream",
     "text": [
      "4 5\n",
      "key1 prince\n",
      "key2 francis\n"
     ]
    }
   ],
   "source": [
    "for i in d:\n",
    "    print(i,d[i])"
   ]
  },
  {
   "cell_type": "code",
   "execution_count": 76,
   "id": "94480f37",
   "metadata": {},
   "outputs": [
    {
     "name": "stdout",
     "output_type": "stream",
     "text": [
      "4 5\n",
      "key1 prince\n",
      "key2 francis\n"
     ]
    }
   ],
   "source": [
    "for k,v in d.items():\n",
    "    print(k,v)"
   ]
  },
  {
   "cell_type": "code",
   "execution_count": 77,
   "id": "9067f0b6",
   "metadata": {},
   "outputs": [],
   "source": [
    "a,b,c = (10,20,30)"
   ]
  },
  {
   "cell_type": "code",
   "execution_count": 78,
   "id": "8628f667",
   "metadata": {},
   "outputs": [
    {
     "data": {
      "text/plain": [
       "10"
      ]
     },
     "execution_count": 78,
     "metadata": {},
     "output_type": "execute_result"
    }
   ],
   "source": [
    "a"
   ]
  },
  {
   "cell_type": "code",
   "execution_count": 79,
   "id": "e41d6c06",
   "metadata": {},
   "outputs": [
    {
     "data": {
      "text/plain": [
       "20"
      ]
     },
     "execution_count": 79,
     "metadata": {},
     "output_type": "execute_result"
    }
   ],
   "source": [
    "b"
   ]
  },
  {
   "cell_type": "code",
   "execution_count": 80,
   "id": "ce85f549",
   "metadata": {},
   "outputs": [
    {
     "data": {
      "text/plain": [
       "30"
      ]
     },
     "execution_count": 80,
     "metadata": {},
     "output_type": "execute_result"
    }
   ],
   "source": [
    "c"
   ]
  },
  {
   "cell_type": "code",
   "execution_count": null,
   "id": "44f10a67",
   "metadata": {},
   "outputs": [],
   "source": []
  }
 ],
 "metadata": {
  "kernelspec": {
   "display_name": "Python 3 (ipykernel)",
   "language": "python",
   "name": "python3"
  },
  "language_info": {
   "codemirror_mode": {
    "name": "ipython",
    "version": 3
   },
   "file_extension": ".py",
   "mimetype": "text/x-python",
   "name": "python",
   "nbconvert_exporter": "python",
   "pygments_lexer": "ipython3",
   "version": "3.10.9"
  }
 },
 "nbformat": 4,
 "nbformat_minor": 5
}
