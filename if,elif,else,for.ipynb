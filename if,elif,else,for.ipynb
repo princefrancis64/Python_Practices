{
 "cells": [
  {
   "cell_type": "code",
   "execution_count": 1,
   "id": "3c1846e0",
   "metadata": {},
   "outputs": [],
   "source": [
    "a = 10\n",
    "if a==11:\n",
    "    print(\"this is my first condition\")"
   ]
  },
  {
   "cell_type": "code",
   "execution_count": 2,
   "id": "31f1bbcf",
   "metadata": {},
   "outputs": [],
   "source": [
    "a = 10\n",
    "if a>5:\n",
    "    pass"
   ]
  },
  {
   "cell_type": "code",
   "execution_count": 3,
   "id": "e6c57441",
   "metadata": {},
   "outputs": [
    {
     "name": "stdout",
     "output_type": "stream",
     "text": [
      "print this if condition is true\n"
     ]
    }
   ],
   "source": [
    "a = 10\n",
    "if a>8:\n",
    "    print(\"print this if condition is true\")"
   ]
  },
  {
   "cell_type": "code",
   "execution_count": 4,
   "id": "3b4184aa",
   "metadata": {},
   "outputs": [],
   "source": [
    "a = 10\n",
    "if a<8:\n",
    "    print(\"print this if condition is true\")"
   ]
  },
  {
   "cell_type": "code",
   "execution_count": 5,
   "id": "0a1c15e3",
   "metadata": {},
   "outputs": [
    {
     "name": "stdout",
     "output_type": "stream",
     "text": [
      "print this\n"
     ]
    }
   ],
   "source": [
    "a = 10\n",
    "if a==11:\n",
    "    print(\"my condition is false\")\n",
    "else:\n",
    "    print(\"print this\")"
   ]
  },
  {
   "cell_type": "code",
   "execution_count": 6,
   "id": "087aacb2",
   "metadata": {},
   "outputs": [
    {
     "name": "stdout",
     "output_type": "stream",
     "text": [
      "if all the blocks will fail then do this\n"
     ]
    }
   ],
   "source": [
    "a = 10\n",
    "if a==12:\n",
    "    print(\"here we are trying to compare 10 with 12\")\n",
    "elif a==11:\n",
    "    print(\"here we are trying to compare 10 with 11\")\n",
    "else:\n",
    "    print(\"if all the blocks will fail then do this\")"
   ]
  },
  {
   "cell_type": "code",
   "execution_count": 8,
   "id": "86dfaa62",
   "metadata": {},
   "outputs": [
    {
     "name": "stdout",
     "output_type": "stream",
     "text": [
      "for sure i will be able to buy\n"
     ]
    }
   ],
   "source": [
    "price = 500\n",
    "if price>500:\n",
    "    print(\"may be i won't be able to buy a jacket\")\n",
    "elif price<500:\n",
    "    print(\"maybe i will be able to buy the jacket\")\n",
    "elif price==500:\n",
    "    print(\"for sure i will be able to buy\")\n",
    "else:\n",
    "    print(\"i don't know\")"
   ]
  },
  {
   "cell_type": "code",
   "execution_count": 9,
   "id": "ebaf46a0",
   "metadata": {},
   "outputs": [
    {
     "data": {
      "text/plain": [
       "False"
      ]
     },
     "execution_count": 9,
     "metadata": {},
     "output_type": "execute_result"
    }
   ],
   "source": [
    "price>500"
   ]
  },
  {
   "cell_type": "code",
   "execution_count": 10,
   "id": "e158d8ae",
   "metadata": {},
   "outputs": [
    {
     "data": {
      "text/plain": [
       "False"
      ]
     },
     "execution_count": 10,
     "metadata": {},
     "output_type": "execute_result"
    }
   ],
   "source": [
    "price<500"
   ]
  },
  {
   "cell_type": "code",
   "execution_count": 11,
   "id": "80624a82",
   "metadata": {},
   "outputs": [
    {
     "data": {
      "text/plain": [
       "True"
      ]
     },
     "execution_count": 11,
     "metadata": {},
     "output_type": "execute_result"
    }
   ],
   "source": [
    "price==500"
   ]
  },
  {
   "cell_type": "code",
   "execution_count": 12,
   "id": "71178aba",
   "metadata": {},
   "outputs": [],
   "source": [
    "l=[1,2,3,4,5,6]"
   ]
  },
  {
   "cell_type": "code",
   "execution_count": 13,
   "id": "8eb014a6",
   "metadata": {},
   "outputs": [
    {
     "data": {
      "text/plain": [
       "True"
      ]
     },
     "execution_count": 13,
     "metadata": {},
     "output_type": "execute_result"
    }
   ],
   "source": [
    "2 in l"
   ]
  },
  {
   "cell_type": "code",
   "execution_count": 14,
   "id": "036fc169",
   "metadata": {},
   "outputs": [
    {
     "name": "stdout",
     "output_type": "stream",
     "text": [
      "do not perform a task\n"
     ]
    }
   ],
   "source": [
    "if 2 in l:\n",
    "    print(\"do not perform a task\")\n",
    "else:\n",
    "    print(\"do not perform this task\")"
   ]
  },
  {
   "cell_type": "code",
   "execution_count": 15,
   "id": "f9ba0c89",
   "metadata": {},
   "outputs": [
    {
     "data": {
      "text/plain": [
       "False"
      ]
     },
     "execution_count": 15,
     "metadata": {},
     "output_type": "execute_result"
    }
   ],
   "source": [
    "60 in l"
   ]
  },
  {
   "cell_type": "code",
   "execution_count": 16,
   "id": "5c06c2c4",
   "metadata": {},
   "outputs": [
    {
     "data": {
      "text/plain": [
       "[1, 2, 3, 4, 5, 6]"
      ]
     },
     "execution_count": 16,
     "metadata": {},
     "output_type": "execute_result"
    }
   ],
   "source": [
    "l"
   ]
  },
  {
   "cell_type": "code",
   "execution_count": 18,
   "id": "c3c260d1",
   "metadata": {},
   "outputs": [
    {
     "name": "stdout",
     "output_type": "stream",
     "text": [
      "try to do addition\n"
     ]
    }
   ],
   "source": [
    "if 1 in l:\n",
    "    print(\"try to do addition\")\n",
    "elif 2 in l:\n",
    "    print(\"try to do subtraction\")\n",
    "elif 3 in l:\n",
    "    print(\"try to do multiplication\")"
   ]
  },
  {
   "cell_type": "code",
   "execution_count": 19,
   "id": "69a601f1",
   "metadata": {},
   "outputs": [
    {
     "name": "stdout",
     "output_type": "stream",
     "text": [
      "try to do subtraction\n",
      "this is a new statement\n"
     ]
    }
   ],
   "source": [
    "if 10 in l:\n",
    "    print(\"try to do addition\")\n",
    "elif 2 in l:\n",
    "    print(\"try to do subtraction\")\n",
    "elif 3 in l:\n",
    "    print(\"try to do multiplication\")\n",
    "if 4 in l:\n",
    "    print(\"this is a new statement\")"
   ]
  },
  {
   "cell_type": "code",
   "execution_count": 20,
   "id": "d328dbd4",
   "metadata": {},
   "outputs": [],
   "source": [
    "a = 400"
   ]
  },
  {
   "cell_type": "code",
   "execution_count": 21,
   "id": "fb6792d3",
   "metadata": {},
   "outputs": [
    {
     "name": "stdout",
     "output_type": "stream",
     "text": [
      "400\n"
     ]
    }
   ],
   "source": [
    "b =int(input())"
   ]
  },
  {
   "cell_type": "code",
   "execution_count": 22,
   "id": "a9f1c33c",
   "metadata": {},
   "outputs": [
    {
     "data": {
      "text/plain": [
       "int"
      ]
     },
     "execution_count": 22,
     "metadata": {},
     "output_type": "execute_result"
    }
   ],
   "source": [
    "type(b)"
   ]
  },
  {
   "cell_type": "code",
   "execution_count": 23,
   "id": "f07a426b",
   "metadata": {},
   "outputs": [
    {
     "name": "stdout",
     "output_type": "stream",
     "text": [
      "188\n",
      "i will be able to buy something\n",
      "I will be able to buy a jacket\n"
     ]
    }
   ],
   "source": [
    "c = int(input())\n",
    "if c<500:\n",
    "    print(\"i will be able to buy something\")\n",
    "    if c<400:\n",
    "        print(\"I will be able to buy a jacket\")\n",
    "    elif c<300:\n",
    "        print(\"i will be able to buy a shirt\")\n",
    "        if c<200:\n",
    "            print(\"you are on the right path\")\n",
    "    else:\n",
    "        print(\"i won't be abel to buy anything\")\n",
    "else:\n",
    "    print(\"i won't be able to buy anything\")"
   ]
  },
  {
   "cell_type": "code",
   "execution_count": 24,
   "id": "c66421a3",
   "metadata": {},
   "outputs": [
    {
     "name": "stdout",
     "output_type": "stream",
     "text": [
      "499\n",
      "i will be able to buy something\n",
      "i won't by able to buy anything\n"
     ]
    }
   ],
   "source": [
    "c = int(input())\n",
    "if c<500:\n",
    "    print(\"i will be able to buy something\")\n",
    "    if c<400:\n",
    "        print(\"i will be able to buy a jacket\")\n",
    "    elif c<300:\n",
    "        print(\"i will be able to buy  a shirt\")\n",
    "        if c<200:\n",
    "            print(\"you are on the right path\")\n",
    "    else:\n",
    "        print(\"i won't by able to buy anything\")\n",
    "else:\n",
    "    print(\"i won't be able to buy anything with this price tag\")\n",
    "    if c>500:\n",
    "        print(\"let's try something else\")"
   ]
  },
  {
   "cell_type": "code",
   "execution_count": 26,
   "id": "f581e1d7",
   "metadata": {},
   "outputs": [
    {
     "name": "stdout",
     "output_type": "stream",
     "text": [
      "450\n",
      "no GRE\n",
      "TOFEL\n"
     ]
    }
   ],
   "source": [
    "marks = int(input())\n",
    "if marks>600:\n",
    "    print(\"admission into GRE\")\n",
    "else:\n",
    "    print(\"no GRE\")\n",
    "    if marks <500 and marks>=400:\n",
    "        print(\"TOFEL\")\n",
    "    elif marks<400:\n",
    "        print(\"try something else\")"
   ]
  },
  {
   "cell_type": "code",
   "execution_count": 29,
   "id": "f04f03f0",
   "metadata": {},
   "outputs": [
    {
     "name": "stdout",
     "output_type": "stream",
     "text": [
      "enter a number=-5\n",
      "the number is negative\n"
     ]
    }
   ],
   "source": [
    "val = float(input(\"enter a number=\"))\n",
    "if val>=0:\n",
    "    if val==0:\n",
    "        print(\"entered value is zero\")\n",
    "    else:\n",
    "        print(\"entered value is positive\")\n",
    "else:\n",
    "    print(\"the number is negative\")"
   ]
  },
  {
   "cell_type": "code",
   "execution_count": 30,
   "id": "1e9aaacd",
   "metadata": {},
   "outputs": [
    {
     "name": "stdout",
     "output_type": "stream",
     "text": [
      "try to do something\n"
     ]
    }
   ],
   "source": [
    "a = 10\n",
    "if a<10 or a ==10:\n",
    "    print(\"try to do something\")"
   ]
  },
  {
   "cell_type": "code",
   "execution_count": 31,
   "id": "a6336b41",
   "metadata": {},
   "outputs": [
    {
     "name": "stdout",
     "output_type": "stream",
     "text": [
      "this is my name\n"
     ]
    }
   ],
   "source": [
    "a= \"prince\"\n",
    "if a==\"prince\" or a==\"Prince\":\n",
    "    print(\"this is my name\")"
   ]
  },
  {
   "cell_type": "code",
   "execution_count": 32,
   "id": "9ae6fe09",
   "metadata": {},
   "outputs": [],
   "source": [
    "a = 10\n",
    "b = 11\n",
    "c = 12\n",
    "d = 13\n",
    "if a==9 and b==11 and c==12 and d==13:\n",
    "    print(\"let's do something\")"
   ]
  },
  {
   "cell_type": "code",
   "execution_count": 33,
   "id": "3af14d29",
   "metadata": {},
   "outputs": [],
   "source": [
    "d = {\"key1\" : \"value\" , \"key2\" : \"prince\" , \"key3\" : \"iNeuron\"}"
   ]
  },
  {
   "cell_type": "code",
   "execution_count": 35,
   "id": "be57ec78",
   "metadata": {},
   "outputs": [
    {
     "name": "stdout",
     "output_type": "stream",
     "text": [
      "all the values are verified\n",
      "dict_values(['value', 'prince', 'iNeuron'])\n"
     ]
    }
   ],
   "source": [
    "if d[\"key1\"]==\"value\" and d[\"key2\"]==\"prince\" and d[\"key3\"]==\"iNeuron\":\n",
    "    print(\"all the values are verified\")\n",
    "    print(d.values())"
   ]
  },
  {
   "cell_type": "code",
   "execution_count": 36,
   "id": "835f1984",
   "metadata": {},
   "outputs": [],
   "source": [
    "l = [1,2,3,4,5,\"prince\", 234.65]\n"
   ]
  },
  {
   "cell_type": "code",
   "execution_count": 37,
   "id": "6da06060",
   "metadata": {},
   "outputs": [
    {
     "name": "stdout",
     "output_type": "stream",
     "text": [
      "1\n",
      "2\n",
      "3\n",
      "4\n",
      "5\n",
      "prince\n",
      "234.65\n"
     ]
    }
   ],
   "source": [
    "for i in l:\n",
    "    print(i)"
   ]
  },
  {
   "cell_type": "code",
   "execution_count": 38,
   "id": "b94cbe78",
   "metadata": {},
   "outputs": [
    {
     "name": "stdout",
     "output_type": "stream",
     "text": [
      "2\n",
      "3\n",
      "4\n",
      "5\n",
      "6\n"
     ]
    },
    {
     "ename": "TypeError",
     "evalue": "can only concatenate str (not \"int\") to str",
     "output_type": "error",
     "traceback": [
      "\u001b[1;31m---------------------------------------------------------------------------\u001b[0m",
      "\u001b[1;31mTypeError\u001b[0m                                 Traceback (most recent call last)",
      "Cell \u001b[1;32mIn[38], line 2\u001b[0m\n\u001b[0;32m      1\u001b[0m \u001b[38;5;28;01mfor\u001b[39;00m i \u001b[38;5;129;01min\u001b[39;00m l:\n\u001b[1;32m----> 2\u001b[0m     \u001b[38;5;28mprint\u001b[39m(\u001b[43mi\u001b[49m\u001b[38;5;241;43m+\u001b[39;49m\u001b[38;5;241;43m1\u001b[39;49m)\n",
      "\u001b[1;31mTypeError\u001b[0m: can only concatenate str (not \"int\") to str"
     ]
    }
   ],
   "source": [
    "for i in l:\n",
    "    print(i+1)"
   ]
  },
  {
   "cell_type": "code",
   "execution_count": 41,
   "id": "134ff810",
   "metadata": {},
   "outputs": [
    {
     "name": "stdout",
     "output_type": "stream",
     "text": [
      "2\n",
      "3\n",
      "4\n",
      "5\n",
      "6\n",
      "prince1\n",
      "235.65\n"
     ]
    }
   ],
   "source": [
    "for i in l:\n",
    "    if type(i)==int:\n",
    "        print(i+1)\n",
    "    elif type(i)==str:\n",
    "        print(i+str(1))\n",
    "    else:\n",
    "        print(i+1)"
   ]
  },
  {
   "cell_type": "code",
   "execution_count": 42,
   "id": "4e56cfdd",
   "metadata": {},
   "outputs": [
    {
     "data": {
      "text/plain": [
       "[1, 2, 3, 4, 5, 'prince', 234.65]"
      ]
     },
     "execution_count": 42,
     "metadata": {},
     "output_type": "execute_result"
    }
   ],
   "source": [
    "l"
   ]
  },
  {
   "cell_type": "code",
   "execution_count": 43,
   "id": "85e3fcda",
   "metadata": {},
   "outputs": [],
   "source": [
    "l1=[]\n",
    "for i in l:\n",
    "    if type(i)==int or type(i)==float:\n",
    "        l1.append(i)"
   ]
  },
  {
   "cell_type": "code",
   "execution_count": 44,
   "id": "0eda18d6",
   "metadata": {},
   "outputs": [
    {
     "data": {
      "text/plain": [
       "[1, 2, 3, 4, 5, 234.65]"
      ]
     },
     "execution_count": 44,
     "metadata": {},
     "output_type": "execute_result"
    }
   ],
   "source": [
    "l1"
   ]
  },
  {
   "cell_type": "code",
   "execution_count": null,
   "id": "fc724484",
   "metadata": {},
   "outputs": [],
   "source": []
  }
 ],
 "metadata": {
  "kernelspec": {
   "display_name": "Python 3 (ipykernel)",
   "language": "python",
   "name": "python3"
  },
  "language_info": {
   "codemirror_mode": {
    "name": "ipython",
    "version": 3
   },
   "file_extension": ".py",
   "mimetype": "text/x-python",
   "name": "python",
   "nbconvert_exporter": "python",
   "pygments_lexer": "ipython3",
   "version": "3.10.9"
  }
 },
 "nbformat": 4,
 "nbformat_minor": 5
}
